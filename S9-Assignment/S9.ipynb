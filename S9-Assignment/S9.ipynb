{
 "cells": [
  {
   "cell_type": "code",
   "execution_count": 1,
   "metadata": {},
   "outputs": [],
   "source": [
    "import torch\n",
    "\n",
    "import torch.optim as optim\n",
    "from torchvision import datasets\n",
    "\n",
    "# help draw the matplotlib plots\n",
    "%matplotlib inline"
   ]
  },
  {
   "cell_type": "code",
   "execution_count": 2,
   "metadata": {},
   "outputs": [],
   "source": [
    "if torch.backends.mps.is_available():\n",
    "    # Apple Silicon GPU\n",
    "    device = \"mps\"\n",
    "    use_cuda = True\n",
    "elif torch.cuda.is_available():\n",
    "    # nVidia GPU\n",
    "    device = \"cuda\"\n",
    "    use_cuda = True\n",
    "else:\n",
    "    # CPU\n",
    "    device = \"cpu\""
   ]
  },
  {
   "cell_type": "code",
   "execution_count": 3,
   "metadata": {},
   "outputs": [
    {
     "name": "stdout",
     "output_type": "stream",
     "text": [
      "Files already downloaded and verified\n",
      "Files already downloaded and verified\n"
     ]
    }
   ],
   "source": [
    "from datasets import CIFAR10Custom\n",
    "train = CIFAR10Custom(root='./data', train=True,download=True)\n",
    "test = CIFAR10Custom(root=\"./data\", train=False, download=True)\n",
    "# dataloader arguments - something you'll fetch these from cmdprmt\n",
    "dataloader_args = dict(shuffle=True, batch_size=128, num_workers=4, pin_memory=True) if use_cuda else dict(shuffle=True, batch_size=64)\n",
    "\n",
    "# train dataloader\n",
    "train_loader = torch.utils.data.DataLoader(train, **dataloader_args)\n",
    "\n",
    "# test dataloader\n",
    "test_loader = torch.utils.data.DataLoader(test, **dataloader_args)"
   ]
  },
  {
   "cell_type": "code",
   "execution_count": 4,
   "metadata": {},
   "outputs": [
    {
     "name": "stdout",
     "output_type": "stream",
     "text": [
      "Requirement already satisfied: torchsummary in /Users/horz/miniconda3/envs/ml/lib/python3.11/site-packages (1.5.1)\n",
      "----------------------------------------------------------------\n",
      "        Layer (type)               Output Shape         Param #\n",
      "================================================================\n",
      "            Conv2d-1           [-1, 32, 32, 32]             864\n",
      "       BatchNorm2d-2           [-1, 32, 32, 32]              64\n",
      "              ReLU-3           [-1, 32, 32, 32]               0\n",
      "            Conv2d-4           [-1, 32, 32, 32]           9,216\n",
      "       BatchNorm2d-5           [-1, 32, 32, 32]              64\n",
      "              ReLU-6           [-1, 32, 32, 32]               0\n",
      "            Conv2d-7           [-1, 32, 15, 15]           9,216\n",
      "       BatchNorm2d-8           [-1, 32, 15, 15]              64\n",
      "              ReLU-9           [-1, 32, 15, 15]               0\n",
      "           Conv2d-10           [-1, 32, 15, 15]           9,216\n",
      "      BatchNorm2d-11           [-1, 32, 15, 15]              64\n",
      "             ReLU-12           [-1, 32, 15, 15]               0\n",
      "           Conv2d-13           [-1, 64, 13, 13]          18,432\n",
      "      BatchNorm2d-14           [-1, 64, 13, 13]             128\n",
      "             ReLU-15           [-1, 64, 13, 13]               0\n",
      "           Conv2d-16           [-1, 64, 13, 13]             576\n",
      "           Conv2d-17           [-1, 64, 13, 13]           4,096\n",
      "      BatchNorm2d-18           [-1, 64, 13, 13]             128\n",
      "             ReLU-19           [-1, 64, 13, 13]               0\n",
      "           Conv2d-20           [-1, 64, 11, 11]          36,864\n",
      "      BatchNorm2d-21           [-1, 64, 11, 11]             128\n",
      "             ReLU-22           [-1, 64, 11, 11]               0\n",
      "           Conv2d-23           [-1, 64, 11, 11]             576\n",
      "           Conv2d-24           [-1, 96, 11, 11]           6,144\n",
      "      BatchNorm2d-25           [-1, 96, 11, 11]             192\n",
      "             ReLU-26           [-1, 96, 11, 11]               0\n",
      "           Conv2d-27            [-1, 110, 5, 5]          95,040\n",
      "      BatchNorm2d-28            [-1, 110, 5, 5]             220\n",
      "             ReLU-29            [-1, 110, 5, 5]               0\n",
      "           Conv2d-30             [-1, 32, 5, 5]           3,520\n",
      "AdaptiveAvgPool2d-31             [-1, 32, 1, 1]               0\n",
      "           Linear-32                   [-1, 10]             330\n",
      "================================================================\n",
      "Total params: 195,142\n",
      "Trainable params: 195,142\n",
      "Non-trainable params: 0\n",
      "----------------------------------------------------------------\n",
      "Input size (MB): 0.01\n",
      "Forward/backward pass size (MB): 2.98\n",
      "Params size (MB): 0.74\n",
      "Estimated Total Size (MB): 3.73\n",
      "----------------------------------------------------------------\n",
      "Running models on:  mps\n"
     ]
    }
   ],
   "source": [
    "from models import Model\n",
    "\n",
    "!pip install torchsummary\n",
    "from torchsummary import summary\n",
    "\n",
    "# run summary on cpu first then shift to device\n",
    "model = Model().to(\"cpu\")\n",
    "summary(model, input_size=(3, 32, 32))\n",
    "\n",
    "\n",
    "print(\"Running models on: \", device)"
   ]
  },
  {
   "cell_type": "code",
   "execution_count": 5,
   "metadata": {},
   "outputs": [
    {
     "name": "stdout",
     "output_type": "stream",
     "text": [
      "EPOCH: 0\n"
     ]
    },
    {
     "name": "stderr",
     "output_type": "stream",
     "text": [
      "Loss=1.321791410446167 Batch_id=390 Accuracy=40.93: 100%|██████████| 391/391 [00:50<00:00,  7.75it/s] \n"
     ]
    },
    {
     "name": "stdout",
     "output_type": "stream",
     "text": [
      "\n",
      "Test set: Average loss: 1.3198, Accuracy: 5237/10000 (52.37%)\n",
      "\n",
      "EPOCH: 1\n"
     ]
    },
    {
     "name": "stderr",
     "output_type": "stream",
     "text": [
      "Loss=1.2117737531661987 Batch_id=390 Accuracy=54.71: 100%|██████████| 391/391 [00:48<00:00,  8.08it/s]\n"
     ]
    },
    {
     "name": "stdout",
     "output_type": "stream",
     "text": [
      "\n",
      "Test set: Average loss: 1.0436, Accuracy: 6281/10000 (62.81%)\n",
      "\n",
      "EPOCH: 2\n"
     ]
    },
    {
     "name": "stderr",
     "output_type": "stream",
     "text": [
      "Loss=1.1267293691635132 Batch_id=390 Accuracy=60.07: 100%|██████████| 391/391 [00:48<00:00,  8.07it/s]\n"
     ]
    },
    {
     "name": "stdout",
     "output_type": "stream",
     "text": [
      "\n",
      "Test set: Average loss: 1.0561, Accuracy: 6345/10000 (63.45%)\n",
      "\n",
      "EPOCH: 3\n"
     ]
    },
    {
     "name": "stderr",
     "output_type": "stream",
     "text": [
      "Loss=0.6540153622627258 Batch_id=390 Accuracy=64.12: 100%|██████████| 391/391 [00:48<00:00,  8.07it/s]\n"
     ]
    },
    {
     "name": "stdout",
     "output_type": "stream",
     "text": [
      "\n",
      "Test set: Average loss: 0.9429, Accuracy: 6753/10000 (67.53%)\n",
      "\n",
      "EPOCH: 4\n"
     ]
    },
    {
     "name": "stderr",
     "output_type": "stream",
     "text": [
      "Loss=1.0226551294326782 Batch_id=390 Accuracy=66.59: 100%|██████████| 391/391 [00:50<00:00,  7.70it/s]\n"
     ]
    },
    {
     "name": "stdout",
     "output_type": "stream",
     "text": [
      "\n",
      "Test set: Average loss: 0.7726, Accuracy: 7337/10000 (73.37%)\n",
      "\n",
      "EPOCH: 5\n"
     ]
    },
    {
     "name": "stderr",
     "output_type": "stream",
     "text": [
      "Loss=0.6509385704994202 Batch_id=390 Accuracy=69.07: 100%|██████████| 391/391 [00:49<00:00,  7.95it/s]\n"
     ]
    },
    {
     "name": "stdout",
     "output_type": "stream",
     "text": [
      "\n",
      "Test set: Average loss: 0.8440, Accuracy: 7178/10000 (71.78%)\n",
      "\n",
      "EPOCH: 6\n"
     ]
    },
    {
     "name": "stderr",
     "output_type": "stream",
     "text": [
      "Loss=0.6040018796920776 Batch_id=390 Accuracy=70.19: 100%|██████████| 391/391 [00:48<00:00,  8.05it/s]\n"
     ]
    },
    {
     "name": "stdout",
     "output_type": "stream",
     "text": [
      "\n",
      "Test set: Average loss: 0.7382, Accuracy: 7439/10000 (74.39%)\n",
      "\n",
      "EPOCH: 7\n"
     ]
    },
    {
     "name": "stderr",
     "output_type": "stream",
     "text": [
      "Loss=0.844307541847229 Batch_id=390 Accuracy=71.67: 100%|██████████| 391/391 [00:48<00:00,  8.07it/s] \n"
     ]
    },
    {
     "name": "stdout",
     "output_type": "stream",
     "text": [
      "\n",
      "Test set: Average loss: 0.7065, Accuracy: 7549/10000 (75.49%)\n",
      "\n",
      "EPOCH: 8\n"
     ]
    },
    {
     "name": "stderr",
     "output_type": "stream",
     "text": [
      "Loss=0.8575477600097656 Batch_id=390 Accuracy=72.66: 100%|██████████| 391/391 [00:48<00:00,  8.10it/s]\n"
     ]
    },
    {
     "name": "stdout",
     "output_type": "stream",
     "text": [
      "\n",
      "Test set: Average loss: 0.6800, Accuracy: 7626/10000 (76.26%)\n",
      "\n",
      "EPOCH: 9\n"
     ]
    },
    {
     "name": "stderr",
     "output_type": "stream",
     "text": [
      "Loss=0.8593953251838684 Batch_id=390 Accuracy=73.33: 100%|██████████| 391/391 [00:48<00:00,  8.05it/s]\n"
     ]
    },
    {
     "name": "stdout",
     "output_type": "stream",
     "text": [
      "\n",
      "Test set: Average loss: 0.7331, Accuracy: 7526/10000 (75.26%)\n",
      "\n",
      "EPOCH: 10\n"
     ]
    },
    {
     "name": "stderr",
     "output_type": "stream",
     "text": [
      "Loss=0.709255576133728 Batch_id=390 Accuracy=73.85: 100%|██████████| 391/391 [00:48<00:00,  8.02it/s] \n"
     ]
    },
    {
     "name": "stdout",
     "output_type": "stream",
     "text": [
      "\n",
      "Test set: Average loss: 0.6482, Accuracy: 7779/10000 (77.79%)\n",
      "\n",
      "EPOCH: 11\n"
     ]
    },
    {
     "name": "stderr",
     "output_type": "stream",
     "text": [
      "Loss=0.6194075345993042 Batch_id=390 Accuracy=74.67: 100%|██████████| 391/391 [00:48<00:00,  8.03it/s]\n"
     ]
    },
    {
     "name": "stdout",
     "output_type": "stream",
     "text": [
      "\n",
      "Test set: Average loss: 0.6423, Accuracy: 7815/10000 (78.15%)\n",
      "\n",
      "EPOCH: 12\n"
     ]
    },
    {
     "name": "stderr",
     "output_type": "stream",
     "text": [
      "Loss=0.8883231282234192 Batch_id=390 Accuracy=75.25: 100%|██████████| 391/391 [00:48<00:00,  8.02it/s] \n"
     ]
    },
    {
     "name": "stdout",
     "output_type": "stream",
     "text": [
      "\n",
      "Test set: Average loss: 0.6101, Accuracy: 7929/10000 (79.29%)\n",
      "\n",
      "EPOCH: 13\n"
     ]
    },
    {
     "name": "stderr",
     "output_type": "stream",
     "text": [
      "Loss=0.547694981098175 Batch_id=390 Accuracy=76.03: 100%|██████████| 391/391 [00:48<00:00,  8.00it/s]  \n"
     ]
    },
    {
     "name": "stdout",
     "output_type": "stream",
     "text": [
      "\n",
      "Test set: Average loss: 0.6247, Accuracy: 7876/10000 (78.76%)\n",
      "\n",
      "EPOCH: 14\n"
     ]
    },
    {
     "name": "stderr",
     "output_type": "stream",
     "text": [
      "Loss=0.608177125453949 Batch_id=390 Accuracy=76.47: 100%|██████████| 391/391 [00:48<00:00,  8.00it/s]  \n"
     ]
    },
    {
     "name": "stdout",
     "output_type": "stream",
     "text": [
      "\n",
      "Test set: Average loss: 0.6077, Accuracy: 7936/10000 (79.36%)\n",
      "\n",
      "EPOCH: 15\n"
     ]
    },
    {
     "name": "stderr",
     "output_type": "stream",
     "text": [
      "Loss=0.5808624625205994 Batch_id=390 Accuracy=76.45: 100%|██████████| 391/391 [00:48<00:00,  8.03it/s] \n"
     ]
    },
    {
     "name": "stdout",
     "output_type": "stream",
     "text": [
      "\n",
      "Test set: Average loss: 0.6061, Accuracy: 7931/10000 (79.31%)\n",
      "\n",
      "EPOCH: 16\n"
     ]
    },
    {
     "name": "stderr",
     "output_type": "stream",
     "text": [
      "Loss=0.5390195846557617 Batch_id=390 Accuracy=77.29: 100%|██████████| 391/391 [00:50<00:00,  7.82it/s] \n"
     ]
    },
    {
     "name": "stdout",
     "output_type": "stream",
     "text": [
      "\n",
      "Test set: Average loss: 0.6008, Accuracy: 7957/10000 (79.57%)\n",
      "\n",
      "EPOCH: 17\n"
     ]
    },
    {
     "name": "stderr",
     "output_type": "stream",
     "text": [
      "Loss=0.5397542715072632 Batch_id=390 Accuracy=77.37: 100%|██████████| 391/391 [00:48<00:00,  8.08it/s] \n"
     ]
    },
    {
     "name": "stdout",
     "output_type": "stream",
     "text": [
      "\n",
      "Test set: Average loss: 0.5910, Accuracy: 8023/10000 (80.23%)\n",
      "\n",
      "EPOCH: 18\n"
     ]
    },
    {
     "name": "stderr",
     "output_type": "stream",
     "text": [
      "Loss=0.5832751393318176 Batch_id=390 Accuracy=78.03: 100%|██████████| 391/391 [00:51<00:00,  7.60it/s] \n"
     ]
    },
    {
     "name": "stdout",
     "output_type": "stream",
     "text": [
      "\n",
      "Test set: Average loss: 0.7137, Accuracy: 7664/10000 (76.64%)\n",
      "\n",
      "EPOCH: 19\n"
     ]
    },
    {
     "name": "stderr",
     "output_type": "stream",
     "text": [
      "Loss=0.624496340751648 Batch_id=390 Accuracy=78.29: 100%|██████████| 391/391 [00:48<00:00,  8.02it/s]  \n"
     ]
    },
    {
     "name": "stdout",
     "output_type": "stream",
     "text": [
      "\n",
      "Test set: Average loss: 0.5719, Accuracy: 8050/10000 (80.50%)\n",
      "\n",
      "EPOCH: 20\n"
     ]
    },
    {
     "name": "stderr",
     "output_type": "stream",
     "text": [
      "Loss=0.6712387204170227 Batch_id=390 Accuracy=78.50: 100%|██████████| 391/391 [00:49<00:00,  7.96it/s] \n"
     ]
    },
    {
     "name": "stdout",
     "output_type": "stream",
     "text": [
      "\n",
      "Test set: Average loss: 0.5566, Accuracy: 8102/10000 (81.02%)\n",
      "\n",
      "EPOCH: 21\n"
     ]
    },
    {
     "name": "stderr",
     "output_type": "stream",
     "text": [
      "Loss=0.6656020879745483 Batch_id=390 Accuracy=78.48: 100%|██████████| 391/391 [00:48<00:00,  8.01it/s] \n"
     ]
    },
    {
     "name": "stdout",
     "output_type": "stream",
     "text": [
      "\n",
      "Test set: Average loss: 0.5476, Accuracy: 8147/10000 (81.47%)\n",
      "\n",
      "EPOCH: 22\n"
     ]
    },
    {
     "name": "stderr",
     "output_type": "stream",
     "text": [
      "Loss=0.6223750114440918 Batch_id=390 Accuracy=79.49: 100%|██████████| 391/391 [00:49<00:00,  7.92it/s] \n"
     ]
    },
    {
     "name": "stdout",
     "output_type": "stream",
     "text": [
      "\n",
      "Test set: Average loss: 0.5773, Accuracy: 8095/10000 (80.95%)\n",
      "\n",
      "EPOCH: 23\n"
     ]
    },
    {
     "name": "stderr",
     "output_type": "stream",
     "text": [
      "Loss=0.5966883897781372 Batch_id=390 Accuracy=79.25: 100%|██████████| 391/391 [00:49<00:00,  7.95it/s] \n"
     ]
    },
    {
     "name": "stdout",
     "output_type": "stream",
     "text": [
      "\n",
      "Test set: Average loss: 0.5532, Accuracy: 8134/10000 (81.34%)\n",
      "\n",
      "EPOCH: 24\n"
     ]
    },
    {
     "name": "stderr",
     "output_type": "stream",
     "text": [
      "Loss=0.4676605761051178 Batch_id=390 Accuracy=79.45: 100%|██████████| 391/391 [00:48<00:00,  8.05it/s] \n"
     ]
    },
    {
     "name": "stdout",
     "output_type": "stream",
     "text": [
      "\n",
      "Test set: Average loss: 0.5614, Accuracy: 8093/10000 (80.93%)\n",
      "\n",
      "EPOCH: 25\n"
     ]
    },
    {
     "name": "stderr",
     "output_type": "stream",
     "text": [
      "Loss=0.47143134474754333 Batch_id=390 Accuracy=79.59: 100%|██████████| 391/391 [00:48<00:00,  8.03it/s]\n"
     ]
    },
    {
     "name": "stdout",
     "output_type": "stream",
     "text": [
      "\n",
      "Test set: Average loss: 0.6173, Accuracy: 7953/10000 (79.53%)\n",
      "\n",
      "EPOCH: 26\n"
     ]
    },
    {
     "name": "stderr",
     "output_type": "stream",
     "text": [
      "Loss=0.42221251130104065 Batch_id=390 Accuracy=79.80: 100%|██████████| 391/391 [00:48<00:00,  8.03it/s]\n"
     ]
    },
    {
     "name": "stdout",
     "output_type": "stream",
     "text": [
      "\n",
      "Test set: Average loss: 0.5376, Accuracy: 8197/10000 (81.97%)\n",
      "\n",
      "EPOCH: 27\n"
     ]
    },
    {
     "name": "stderr",
     "output_type": "stream",
     "text": [
      "Loss=0.4231112003326416 Batch_id=390 Accuracy=80.27: 100%|██████████| 391/391 [00:49<00:00,  7.90it/s] \n"
     ]
    },
    {
     "name": "stdout",
     "output_type": "stream",
     "text": [
      "\n",
      "Test set: Average loss: 0.5420, Accuracy: 8203/10000 (82.03%)\n",
      "\n",
      "EPOCH: 28\n"
     ]
    },
    {
     "name": "stderr",
     "output_type": "stream",
     "text": [
      "Loss=0.3901175558567047 Batch_id=390 Accuracy=80.23: 100%|██████████| 391/391 [00:48<00:00,  7.99it/s] \n"
     ]
    },
    {
     "name": "stdout",
     "output_type": "stream",
     "text": [
      "\n",
      "Test set: Average loss: 0.5620, Accuracy: 8131/10000 (81.31%)\n",
      "\n",
      "EPOCH: 29\n"
     ]
    },
    {
     "name": "stderr",
     "output_type": "stream",
     "text": [
      "Loss=0.5999414920806885 Batch_id=390 Accuracy=80.86: 100%|██████████| 391/391 [00:48<00:00,  8.04it/s] \n"
     ]
    },
    {
     "name": "stdout",
     "output_type": "stream",
     "text": [
      "\n",
      "Test set: Average loss: 0.5340, Accuracy: 8206/10000 (82.06%)\n",
      "\n",
      "EPOCH: 30\n"
     ]
    },
    {
     "name": "stderr",
     "output_type": "stream",
     "text": [
      "Loss=0.5737155079841614 Batch_id=390 Accuracy=80.77: 100%|██████████| 391/391 [00:49<00:00,  7.94it/s] \n"
     ]
    },
    {
     "name": "stdout",
     "output_type": "stream",
     "text": [
      "\n",
      "Test set: Average loss: 0.5476, Accuracy: 8183/10000 (81.83%)\n",
      "\n",
      "EPOCH: 31\n"
     ]
    },
    {
     "name": "stderr",
     "output_type": "stream",
     "text": [
      "Loss=0.6479820013046265 Batch_id=390 Accuracy=81.08: 100%|██████████| 391/391 [00:49<00:00,  7.92it/s] \n"
     ]
    },
    {
     "name": "stdout",
     "output_type": "stream",
     "text": [
      "\n",
      "Test set: Average loss: 0.5143, Accuracy: 8273/10000 (82.73%)\n",
      "\n",
      "EPOCH: 32\n"
     ]
    },
    {
     "name": "stderr",
     "output_type": "stream",
     "text": [
      "Loss=0.33909526467323303 Batch_id=390 Accuracy=81.25: 100%|██████████| 391/391 [00:49<00:00,  7.96it/s]\n"
     ]
    },
    {
     "name": "stdout",
     "output_type": "stream",
     "text": [
      "\n",
      "Test set: Average loss: 0.5266, Accuracy: 8244/10000 (82.44%)\n",
      "\n",
      "EPOCH: 33\n"
     ]
    },
    {
     "name": "stderr",
     "output_type": "stream",
     "text": [
      "Loss=0.548977792263031 Batch_id=390 Accuracy=81.23: 100%|██████████| 391/391 [00:49<00:00,  7.96it/s]  \n"
     ]
    },
    {
     "name": "stdout",
     "output_type": "stream",
     "text": [
      "\n",
      "Test set: Average loss: 0.5174, Accuracy: 8253/10000 (82.53%)\n",
      "\n",
      "EPOCH: 34\n"
     ]
    },
    {
     "name": "stderr",
     "output_type": "stream",
     "text": [
      "Loss=0.6283596754074097 Batch_id=390 Accuracy=81.63: 100%|██████████| 391/391 [00:49<00:00,  7.91it/s] \n"
     ]
    },
    {
     "name": "stdout",
     "output_type": "stream",
     "text": [
      "\n",
      "Test set: Average loss: 0.5446, Accuracy: 8234/10000 (82.34%)\n",
      "\n",
      "EPOCH: 35\n"
     ]
    },
    {
     "name": "stderr",
     "output_type": "stream",
     "text": [
      "Loss=0.5019589066505432 Batch_id=390 Accuracy=81.48: 100%|██████████| 391/391 [00:49<00:00,  7.90it/s] \n"
     ]
    },
    {
     "name": "stdout",
     "output_type": "stream",
     "text": [
      "\n",
      "Test set: Average loss: 0.5401, Accuracy: 8218/10000 (82.18%)\n",
      "\n",
      "EPOCH: 36\n"
     ]
    },
    {
     "name": "stderr",
     "output_type": "stream",
     "text": [
      "Loss=0.517858624458313 Batch_id=390 Accuracy=81.61: 100%|██████████| 391/391 [00:49<00:00,  7.91it/s]  \n"
     ]
    },
    {
     "name": "stdout",
     "output_type": "stream",
     "text": [
      "\n",
      "Test set: Average loss: 0.5234, Accuracy: 8276/10000 (82.76%)\n",
      "\n",
      "EPOCH: 37\n"
     ]
    },
    {
     "name": "stderr",
     "output_type": "stream",
     "text": [
      "Loss=0.47853589057922363 Batch_id=390 Accuracy=82.14: 100%|██████████| 391/391 [00:49<00:00,  7.85it/s]\n"
     ]
    },
    {
     "name": "stdout",
     "output_type": "stream",
     "text": [
      "\n",
      "Test set: Average loss: 0.5102, Accuracy: 8298/10000 (82.98%)\n",
      "\n",
      "EPOCH: 38\n"
     ]
    },
    {
     "name": "stderr",
     "output_type": "stream",
     "text": [
      "Loss=0.4726386070251465 Batch_id=390 Accuracy=82.15: 100%|██████████| 391/391 [00:49<00:00,  7.95it/s] \n"
     ]
    },
    {
     "name": "stdout",
     "output_type": "stream",
     "text": [
      "\n",
      "Test set: Average loss: 0.5519, Accuracy: 8226/10000 (82.26%)\n",
      "\n",
      "EPOCH: 39\n"
     ]
    },
    {
     "name": "stderr",
     "output_type": "stream",
     "text": [
      "Loss=0.4528387188911438 Batch_id=390 Accuracy=82.39: 100%|██████████| 391/391 [00:47<00:00,  8.16it/s] \n"
     ]
    },
    {
     "name": "stdout",
     "output_type": "stream",
     "text": [
      "\n",
      "Test set: Average loss: 0.5048, Accuracy: 8312/10000 (83.12%)\n",
      "\n",
      "EPOCH: 40\n"
     ]
    },
    {
     "name": "stderr",
     "output_type": "stream",
     "text": [
      "Loss=0.6475070714950562 Batch_id=390 Accuracy=82.43: 100%|██████████| 391/391 [00:47<00:00,  8.17it/s] \n"
     ]
    },
    {
     "name": "stdout",
     "output_type": "stream",
     "text": [
      "\n",
      "Test set: Average loss: 0.5201, Accuracy: 8287/10000 (82.87%)\n",
      "\n",
      "EPOCH: 41\n"
     ]
    },
    {
     "name": "stderr",
     "output_type": "stream",
     "text": [
      "Loss=0.45620450377464294 Batch_id=390 Accuracy=82.70: 100%|██████████| 391/391 [00:49<00:00,  7.95it/s]\n"
     ]
    },
    {
     "name": "stdout",
     "output_type": "stream",
     "text": [
      "\n",
      "Test set: Average loss: 0.4871, Accuracy: 8382/10000 (83.82%)\n",
      "\n",
      "EPOCH: 42\n"
     ]
    },
    {
     "name": "stderr",
     "output_type": "stream",
     "text": [
      "Loss=0.4468422830104828 Batch_id=390 Accuracy=82.55: 100%|██████████| 391/391 [00:48<00:00,  8.00it/s] \n"
     ]
    },
    {
     "name": "stdout",
     "output_type": "stream",
     "text": [
      "\n",
      "Test set: Average loss: 0.5031, Accuracy: 8335/10000 (83.35%)\n",
      "\n",
      "EPOCH: 43\n"
     ]
    },
    {
     "name": "stderr",
     "output_type": "stream",
     "text": [
      "Loss=0.4108026921749115 Batch_id=390 Accuracy=82.88: 100%|██████████| 391/391 [00:48<00:00,  8.04it/s] \n"
     ]
    },
    {
     "name": "stdout",
     "output_type": "stream",
     "text": [
      "\n",
      "Test set: Average loss: 0.5168, Accuracy: 8343/10000 (83.43%)\n",
      "\n",
      "EPOCH: 44\n"
     ]
    },
    {
     "name": "stderr",
     "output_type": "stream",
     "text": [
      "Loss=0.6130244731903076 Batch_id=390 Accuracy=82.83: 100%|██████████| 391/391 [00:49<00:00,  7.95it/s] \n"
     ]
    },
    {
     "name": "stdout",
     "output_type": "stream",
     "text": [
      "\n",
      "Test set: Average loss: 0.4984, Accuracy: 8373/10000 (83.73%)\n",
      "\n",
      "EPOCH: 45\n"
     ]
    },
    {
     "name": "stderr",
     "output_type": "stream",
     "text": [
      "Loss=0.5369644165039062 Batch_id=390 Accuracy=82.97: 100%|██████████| 391/391 [00:49<00:00,  7.95it/s] \n"
     ]
    },
    {
     "name": "stdout",
     "output_type": "stream",
     "text": [
      "\n",
      "Test set: Average loss: 0.5091, Accuracy: 8346/10000 (83.46%)\n",
      "\n",
      "EPOCH: 46\n"
     ]
    },
    {
     "name": "stderr",
     "output_type": "stream",
     "text": [
      "Loss=0.3521634042263031 Batch_id=390 Accuracy=83.33: 100%|██████████| 391/391 [00:49<00:00,  7.97it/s] \n"
     ]
    },
    {
     "name": "stdout",
     "output_type": "stream",
     "text": [
      "\n",
      "Test set: Average loss: 0.5012, Accuracy: 8353/10000 (83.53%)\n",
      "\n",
      "EPOCH: 47\n"
     ]
    },
    {
     "name": "stderr",
     "output_type": "stream",
     "text": [
      "Loss=0.5400475859642029 Batch_id=390 Accuracy=83.25: 100%|██████████| 391/391 [00:48<00:00,  8.01it/s] \n"
     ]
    },
    {
     "name": "stdout",
     "output_type": "stream",
     "text": [
      "\n",
      "Test set: Average loss: 0.5061, Accuracy: 8361/10000 (83.61%)\n",
      "\n",
      "EPOCH: 48\n"
     ]
    },
    {
     "name": "stderr",
     "output_type": "stream",
     "text": [
      "Loss=0.5106711387634277 Batch_id=390 Accuracy=83.34: 100%|██████████| 391/391 [00:49<00:00,  7.96it/s] \n"
     ]
    },
    {
     "name": "stdout",
     "output_type": "stream",
     "text": [
      "\n",
      "Test set: Average loss: 0.5025, Accuracy: 8348/10000 (83.48%)\n",
      "\n",
      "EPOCH: 49\n"
     ]
    },
    {
     "name": "stderr",
     "output_type": "stream",
     "text": [
      "Loss=0.5250669717788696 Batch_id=390 Accuracy=83.39: 100%|██████████| 391/391 [00:49<00:00,  7.96it/s] \n"
     ]
    },
    {
     "name": "stdout",
     "output_type": "stream",
     "text": [
      "\n",
      "Test set: Average loss: 0.4832, Accuracy: 8471/10000 (84.71%)\n",
      "\n"
     ]
    },
    {
     "data": {
      "image/png": "[encoded data removed]",
      "text/plain": [
       "<Figure size 1500x1000 with 4 Axes>"
      ]
     },
     "metadata": {},
     "output_type": "display_data"
    }
   ],
   "source": [
    "from utils import ModelHelper\n",
    "\n",
    "\n",
    "model =  Model().to(device)\n",
    "mhelper = ModelHelper()\n",
    "# optimizer = optim.SGD(model.parameters(), lr=0.01, momentum=0.9)\n",
    "optimizer = optim.Adam(model.parameters())\n",
    "EPOCHS = 50\n",
    "for epoch in range(EPOCHS):\n",
    "    print(\"EPOCH:\", epoch)\n",
    "    mhelper.train_model(model, device, train_loader, optimizer, epoch)\n",
    "    mhelper.test_model(model, device, test_loader)\n",
    "mhelper.plot()"
   ]
  },
  {
   "cell_type": "code",
   "execution_count": 6,
   "metadata": {},
   "outputs": [
    {
     "name": "stdout",
     "output_type": "stream",
     "text": [
      "EPOCH: 0\n"
     ]
    },
    {
     "name": "stderr",
     "output_type": "stream",
     "text": [
      "Loss=0.5604497194290161 Batch_id=390 Accuracy=83.54: 100%|██████████| 391/391 [00:49<00:00,  7.86it/s] \n"
     ]
    },
    {
     "name": "stdout",
     "output_type": "stream",
     "text": [
      "\n",
      "Test set: Average loss: 0.5442, Accuracy: 8278/10000 (82.78%)\n",
      "\n",
      "EPOCH: 1\n"
     ]
    },
    {
     "name": "stderr",
     "output_type": "stream",
     "text": [
      "Loss=0.47327136993408203 Batch_id=390 Accuracy=83.66: 100%|██████████| 391/391 [00:48<00:00,  7.99it/s]\n"
     ]
    },
    {
     "name": "stdout",
     "output_type": "stream",
     "text": [
      "\n",
      "Test set: Average loss: 0.5275, Accuracy: 8296/10000 (82.96%)\n",
      "\n",
      "EPOCH: 2\n"
     ]
    },
    {
     "name": "stderr",
     "output_type": "stream",
     "text": [
      "Loss=0.51750648021698 Batch_id=390 Accuracy=83.73: 100%|██████████| 391/391 [00:49<00:00,  7.98it/s]   \n"
     ]
    },
    {
     "name": "stdout",
     "output_type": "stream",
     "text": [
      "\n",
      "Test set: Average loss: 0.5029, Accuracy: 8346/10000 (83.46%)\n",
      "\n",
      "EPOCH: 3\n"
     ]
    },
    {
     "name": "stderr",
     "output_type": "stream",
     "text": [
      "Loss=0.4805994927883148 Batch_id=390 Accuracy=83.92: 100%|██████████| 391/391 [00:49<00:00,  7.83it/s] \n"
     ]
    },
    {
     "name": "stdout",
     "output_type": "stream",
     "text": [
      "\n",
      "Test set: Average loss: 0.4997, Accuracy: 8369/10000 (83.69%)\n",
      "\n",
      "EPOCH: 4\n"
     ]
    },
    {
     "name": "stderr",
     "output_type": "stream",
     "text": [
      "Loss=0.5515700578689575 Batch_id=390 Accuracy=83.80: 100%|██████████| 391/391 [00:48<00:00,  7.99it/s] \n"
     ]
    },
    {
     "name": "stdout",
     "output_type": "stream",
     "text": [
      "\n",
      "Test set: Average loss: 0.5048, Accuracy: 8353/10000 (83.53%)\n",
      "\n",
      "EPOCH: 5\n"
     ]
    },
    {
     "name": "stderr",
     "output_type": "stream",
     "text": [
      "Loss=0.5797429084777832 Batch_id=390 Accuracy=84.00: 100%|██████████| 391/391 [00:49<00:00,  7.92it/s] \n"
     ]
    },
    {
     "name": "stdout",
     "output_type": "stream",
     "text": [
      "\n",
      "Test set: Average loss: 0.5018, Accuracy: 8404/10000 (84.04%)\n",
      "\n",
      "EPOCH: 6\n"
     ]
    },
    {
     "name": "stderr",
     "output_type": "stream",
     "text": [
      "Loss=0.4817822575569153 Batch_id=390 Accuracy=84.10: 100%|██████████| 391/391 [00:48<00:00,  8.03it/s] \n"
     ]
    },
    {
     "name": "stdout",
     "output_type": "stream",
     "text": [
      "\n",
      "Test set: Average loss: 0.5209, Accuracy: 8363/10000 (83.63%)\n",
      "\n",
      "EPOCH: 7\n"
     ]
    },
    {
     "name": "stderr",
     "output_type": "stream",
     "text": [
      "Loss=0.49550342559814453 Batch_id=390 Accuracy=84.30: 100%|██████████| 391/391 [00:49<00:00,  7.91it/s]\n"
     ]
    },
    {
     "name": "stdout",
     "output_type": "stream",
     "text": [
      "\n",
      "Test set: Average loss: 0.5337, Accuracy: 8317/10000 (83.17%)\n",
      "\n",
      "EPOCH: 8\n"
     ]
    },
    {
     "name": "stderr",
     "output_type": "stream",
     "text": [
      "Loss=0.4416181147098541 Batch_id=390 Accuracy=84.37: 100%|██████████| 391/391 [00:49<00:00,  7.96it/s] \n"
     ]
    },
    {
     "name": "stdout",
     "output_type": "stream",
     "text": [
      "\n",
      "Test set: Average loss: 0.5095, Accuracy: 8410/10000 (84.10%)\n",
      "\n",
      "EPOCH: 9\n"
     ]
    },
    {
     "name": "stderr",
     "output_type": "stream",
     "text": [
      "Loss=0.3829718232154846 Batch_id=390 Accuracy=84.47: 100%|██████████| 391/391 [00:49<00:00,  7.94it/s] \n"
     ]
    },
    {
     "name": "stdout",
     "output_type": "stream",
     "text": [
      "\n",
      "Test set: Average loss: 0.4843, Accuracy: 8424/10000 (84.24%)\n",
      "\n",
      "EPOCH: 10\n"
     ]
    },
    {
     "name": "stderr",
     "output_type": "stream",
     "text": [
      "Loss=0.4404202997684479 Batch_id=390 Accuracy=84.52: 100%|██████████| 391/391 [00:49<00:00,  7.91it/s] \n"
     ]
    },
    {
     "name": "stdout",
     "output_type": "stream",
     "text": [
      "\n",
      "Test set: Average loss: 0.5060, Accuracy: 8361/10000 (83.61%)\n",
      "\n",
      "EPOCH: 11\n"
     ]
    },
    {
     "name": "stderr",
     "output_type": "stream",
     "text": [
      "Loss=0.5012940168380737 Batch_id=390 Accuracy=84.44: 100%|██████████| 391/391 [00:49<00:00,  7.98it/s] \n"
     ]
    },
    {
     "name": "stdout",
     "output_type": "stream",
     "text": [
      "\n",
      "Test set: Average loss: 0.5068, Accuracy: 8355/10000 (83.55%)\n",
      "\n",
      "EPOCH: 12\n"
     ]
    },
    {
     "name": "stderr",
     "output_type": "stream",
     "text": [
      "Loss=0.43344026803970337 Batch_id=390 Accuracy=84.51: 100%|██████████| 391/391 [00:49<00:00,  7.89it/s]\n"
     ]
    },
    {
     "name": "stdout",
     "output_type": "stream",
     "text": [
      "\n",
      "Test set: Average loss: 0.5051, Accuracy: 8391/10000 (83.91%)\n",
      "\n",
      "EPOCH: 13\n"
     ]
    },
    {
     "name": "stderr",
     "output_type": "stream",
     "text": [
      "Loss=0.4826967120170593 Batch_id=390 Accuracy=84.91: 100%|██████████| 391/391 [00:48<00:00,  7.98it/s] \n"
     ]
    },
    {
     "name": "stdout",
     "output_type": "stream",
     "text": [
      "\n",
      "Test set: Average loss: 0.4876, Accuracy: 8434/10000 (84.34%)\n",
      "\n",
      "EPOCH: 14\n"
     ]
    },
    {
     "name": "stderr",
     "output_type": "stream",
     "text": [
      "Loss=0.5396782159805298 Batch_id=390 Accuracy=84.74: 100%|██████████| 391/391 [00:48<00:00,  8.00it/s] \n"
     ]
    },
    {
     "name": "stdout",
     "output_type": "stream",
     "text": [
      "\n",
      "Test set: Average loss: 0.5065, Accuracy: 8329/10000 (83.29%)\n",
      "\n",
      "EPOCH: 15\n"
     ]
    },
    {
     "name": "stderr",
     "output_type": "stream",
     "text": [
      "Loss=0.5379213690757751 Batch_id=390 Accuracy=84.85: 100%|██████████| 391/391 [00:48<00:00,  8.02it/s] \n"
     ]
    },
    {
     "name": "stdout",
     "output_type": "stream",
     "text": [
      "\n",
      "Test set: Average loss: 0.4960, Accuracy: 8446/10000 (84.46%)\n",
      "\n",
      "EPOCH: 16\n"
     ]
    },
    {
     "name": "stderr",
     "output_type": "stream",
     "text": [
      "Loss=0.5033385157585144 Batch_id=390 Accuracy=85.13: 100%|██████████| 391/391 [00:49<00:00,  7.94it/s] \n"
     ]
    },
    {
     "name": "stdout",
     "output_type": "stream",
     "text": [
      "\n",
      "Test set: Average loss: 0.5053, Accuracy: 8388/10000 (83.88%)\n",
      "\n",
      "EPOCH: 17\n"
     ]
    },
    {
     "name": "stderr",
     "output_type": "stream",
     "text": [
      "Loss=0.3376622200012207 Batch_id=390 Accuracy=85.17: 100%|██████████| 391/391 [00:48<00:00,  7.99it/s] \n"
     ]
    },
    {
     "name": "stdout",
     "output_type": "stream",
     "text": [
      "\n",
      "Test set: Average loss: 0.4930, Accuracy: 8435/10000 (84.35%)\n",
      "\n",
      "EPOCH: 18\n"
     ]
    },
    {
     "name": "stderr",
     "output_type": "stream",
     "text": [
      "Loss=0.31353989243507385 Batch_id=390 Accuracy=85.40: 100%|██████████| 391/391 [00:49<00:00,  7.93it/s]\n"
     ]
    },
    {
     "name": "stdout",
     "output_type": "stream",
     "text": [
      "\n",
      "Test set: Average loss: 0.5167, Accuracy: 8362/10000 (83.62%)\n",
      "\n",
      "EPOCH: 19\n"
     ]
    },
    {
     "name": "stderr",
     "output_type": "stream",
     "text": [
      "Loss=0.47025880217552185 Batch_id=390 Accuracy=85.25: 100%|██████████| 391/391 [00:49<00:00,  7.83it/s]\n"
     ]
    },
    {
     "name": "stdout",
     "output_type": "stream",
     "text": [
      "\n",
      "Test set: Average loss: 0.5028, Accuracy: 8399/10000 (83.99%)\n",
      "\n",
      "EPOCH: 20\n"
     ]
    },
    {
     "name": "stderr",
     "output_type": "stream",
     "text": [
      "Loss=0.5421472787857056 Batch_id=390 Accuracy=85.49: 100%|██████████| 391/391 [00:49<00:00,  7.87it/s] \n"
     ]
    },
    {
     "name": "stdout",
     "output_type": "stream",
     "text": [
      "\n",
      "Test set: Average loss: 0.4700, Accuracy: 8475/10000 (84.75%)\n",
      "\n",
      "EPOCH: 21\n"
     ]
    },
    {
     "name": "stderr",
     "output_type": "stream",
     "text": [
      "Loss=0.5482219457626343 Batch_id=390 Accuracy=85.36: 100%|██████████| 391/391 [00:49<00:00,  7.96it/s] \n"
     ]
    },
    {
     "name": "stdout",
     "output_type": "stream",
     "text": [
      "\n",
      "Test set: Average loss: 0.4934, Accuracy: 8407/10000 (84.07%)\n",
      "\n",
      "EPOCH: 22\n"
     ]
    },
    {
     "name": "stderr",
     "output_type": "stream",
     "text": [
      "Loss=0.5383211374282837 Batch_id=390 Accuracy=85.48: 100%|██████████| 391/391 [00:49<00:00,  7.94it/s] \n"
     ]
    },
    {
     "name": "stdout",
     "output_type": "stream",
     "text": [
      "\n",
      "Test set: Average loss: 0.4763, Accuracy: 8492/10000 (84.92%)\n",
      "\n",
      "EPOCH: 23\n"
     ]
    },
    {
     "name": "stderr",
     "output_type": "stream",
     "text": [
      "Loss=0.24844446778297424 Batch_id=390 Accuracy=85.54: 100%|██████████| 391/391 [00:48<00:00,  8.01it/s]\n"
     ]
    },
    {
     "name": "stdout",
     "output_type": "stream",
     "text": [
      "\n",
      "Test set: Average loss: 0.4883, Accuracy: 8447/10000 (84.47%)\n",
      "\n",
      "EPOCH: 24\n"
     ]
    },
    {
     "name": "stderr",
     "output_type": "stream",
     "text": [
      "Loss=0.4271056652069092 Batch_id=390 Accuracy=85.62: 100%|██████████| 391/391 [00:48<00:00,  7.99it/s] \n"
     ]
    },
    {
     "name": "stdout",
     "output_type": "stream",
     "text": [
      "\n",
      "Test set: Average loss: 0.4864, Accuracy: 8425/10000 (84.25%)\n",
      "\n",
      "EPOCH: 25\n"
     ]
    },
    {
     "name": "stderr",
     "output_type": "stream",
     "text": [
      "Loss=0.4097744822502136 Batch_id=390 Accuracy=85.68: 100%|██████████| 391/391 [00:48<00:00,  8.01it/s] \n"
     ]
    },
    {
     "name": "stdout",
     "output_type": "stream",
     "text": [
      "\n",
      "Test set: Average loss: 0.4711, Accuracy: 8487/10000 (84.87%)\n",
      "\n",
      "EPOCH: 26\n"
     ]
    },
    {
     "name": "stderr",
     "output_type": "stream",
     "text": [
      "Loss=0.25745144486427307 Batch_id=390 Accuracy=85.62: 100%|██████████| 391/391 [00:48<00:00,  7.99it/s]\n"
     ]
    },
    {
     "name": "stdout",
     "output_type": "stream",
     "text": [
      "\n",
      "Test set: Average loss: 0.4836, Accuracy: 8455/10000 (84.55%)\n",
      "\n",
      "EPOCH: 27\n"
     ]
    },
    {
     "name": "stderr",
     "output_type": "stream",
     "text": [
      "Loss=0.4073314666748047 Batch_id=390 Accuracy=85.89: 100%|██████████| 391/391 [00:48<00:00,  8.03it/s] \n"
     ]
    },
    {
     "name": "stdout",
     "output_type": "stream",
     "text": [
      "\n",
      "Test set: Average loss: 0.4704, Accuracy: 8550/10000 (85.50%)\n",
      "\n",
      "EPOCH: 28\n"
     ]
    },
    {
     "name": "stderr",
     "output_type": "stream",
     "text": [
      "Loss=0.4043126702308655 Batch_id=390 Accuracy=85.92: 100%|██████████| 391/391 [00:49<00:00,  7.87it/s] \n"
     ]
    },
    {
     "name": "stdout",
     "output_type": "stream",
     "text": [
      "\n",
      "Test set: Average loss: 0.5059, Accuracy: 8443/10000 (84.43%)\n",
      "\n",
      "EPOCH: 29\n"
     ]
    },
    {
     "name": "stderr",
     "output_type": "stream",
     "text": [
      "Loss=0.39751511812210083 Batch_id=390 Accuracy=85.87: 100%|██████████| 391/391 [00:48<00:00,  7.98it/s]\n"
     ]
    },
    {
     "name": "stdout",
     "output_type": "stream",
     "text": [
      "\n",
      "Test set: Average loss: 0.4663, Accuracy: 8495/10000 (84.95%)\n",
      "\n",
      "EPOCH: 30\n"
     ]
    },
    {
     "name": "stderr",
     "output_type": "stream",
     "text": [
      "Loss=0.3566915988922119 Batch_id=390 Accuracy=85.65: 100%|██████████| 391/391 [00:49<00:00,  7.95it/s] \n"
     ]
    },
    {
     "name": "stdout",
     "output_type": "stream",
     "text": [
      "\n",
      "Test set: Average loss: 0.5219, Accuracy: 8418/10000 (84.18%)\n",
      "\n",
      "EPOCH: 31\n"
     ]
    },
    {
     "name": "stderr",
     "output_type": "stream",
     "text": [
      "Loss=0.3303249776363373 Batch_id=390 Accuracy=86.18: 100%|██████████| 391/391 [00:47<00:00,  8.15it/s] \n"
     ]
    },
    {
     "name": "stdout",
     "output_type": "stream",
     "text": [
      "\n",
      "Test set: Average loss: 0.4967, Accuracy: 8439/10000 (84.39%)\n",
      "\n",
      "EPOCH: 32\n"
     ]
    },
    {
     "name": "stderr",
     "output_type": "stream",
     "text": [
      "Loss=0.4085550308227539 Batch_id=390 Accuracy=86.01: 100%|██████████| 391/391 [00:49<00:00,  7.97it/s] \n"
     ]
    },
    {
     "name": "stdout",
     "output_type": "stream",
     "text": [
      "\n",
      "Test set: Average loss: 0.4921, Accuracy: 8493/10000 (84.93%)\n",
      "\n",
      "EPOCH: 33\n"
     ]
    },
    {
     "name": "stderr",
     "output_type": "stream",
     "text": [
      "Loss=0.36383095383644104 Batch_id=390 Accuracy=86.28: 100%|██████████| 391/391 [00:48<00:00,  7.99it/s]\n"
     ]
    },
    {
     "name": "stdout",
     "output_type": "stream",
     "text": [
      "\n",
      "Test set: Average loss: 0.4939, Accuracy: 8433/10000 (84.33%)\n",
      "\n",
      "EPOCH: 34\n"
     ]
    },
    {
     "name": "stderr",
     "output_type": "stream",
     "text": [
      "Loss=0.33897408843040466 Batch_id=390 Accuracy=86.23: 100%|██████████| 391/391 [00:49<00:00,  7.96it/s]\n"
     ]
    },
    {
     "name": "stdout",
     "output_type": "stream",
     "text": [
      "\n",
      "Test set: Average loss: 0.4868, Accuracy: 8499/10000 (84.99%)\n",
      "\n",
      "EPOCH: 35\n"
     ]
    },
    {
     "name": "stderr",
     "output_type": "stream",
     "text": [
      "Loss=0.4253748953342438 Batch_id=390 Accuracy=86.47: 100%|██████████| 391/391 [00:49<00:00,  7.96it/s] \n"
     ]
    },
    {
     "name": "stdout",
     "output_type": "stream",
     "text": [
      "\n",
      "Test set: Average loss: 0.4990, Accuracy: 8438/10000 (84.38%)\n",
      "\n",
      "EPOCH: 36\n"
     ]
    },
    {
     "name": "stderr",
     "output_type": "stream",
     "text": [
      "Loss=0.3231590688228607 Batch_id=390 Accuracy=86.34: 100%|██████████| 391/391 [00:49<00:00,  7.86it/s] \n"
     ]
    },
    {
     "name": "stdout",
     "output_type": "stream",
     "text": [
      "\n",
      "Test set: Average loss: 0.4761, Accuracy: 8513/10000 (85.13%)\n",
      "\n",
      "EPOCH: 37\n"
     ]
    },
    {
     "name": "stderr",
     "output_type": "stream",
     "text": [
      "Loss=0.2831476628780365 Batch_id=390 Accuracy=86.47: 100%|██████████| 391/391 [00:48<00:00,  8.01it/s] \n"
     ]
    },
    {
     "name": "stdout",
     "output_type": "stream",
     "text": [
      "\n",
      "Test set: Average loss: 0.5095, Accuracy: 8403/10000 (84.03%)\n",
      "\n",
      "EPOCH: 38\n"
     ]
    },
    {
     "name": "stderr",
     "output_type": "stream",
     "text": [
      "Loss=0.49202901124954224 Batch_id=390 Accuracy=86.48: 100%|██████████| 391/391 [00:48<00:00,  8.00it/s]\n"
     ]
    },
    {
     "name": "stdout",
     "output_type": "stream",
     "text": [
      "\n",
      "Test set: Average loss: 0.4947, Accuracy: 8412/10000 (84.12%)\n",
      "\n",
      "EPOCH: 39\n"
     ]
    },
    {
     "name": "stderr",
     "output_type": "stream",
     "text": [
      "Loss=0.5695425868034363 Batch_id=390 Accuracy=86.55: 100%|██████████| 391/391 [00:48<00:00,  8.01it/s] \n"
     ]
    },
    {
     "name": "stdout",
     "output_type": "stream",
     "text": [
      "\n",
      "Test set: Average loss: 0.4767, Accuracy: 8526/10000 (85.26%)\n",
      "\n",
      "EPOCH: 40\n"
     ]
    },
    {
     "name": "stderr",
     "output_type": "stream",
     "text": [
      "Loss=0.4451797902584076 Batch_id=390 Accuracy=86.65: 100%|██████████| 391/391 [00:49<00:00,  7.93it/s] \n"
     ]
    },
    {
     "name": "stdout",
     "output_type": "stream",
     "text": [
      "\n",
      "Test set: Average loss: 0.4873, Accuracy: 8499/10000 (84.99%)\n",
      "\n",
      "EPOCH: 41\n"
     ]
    },
    {
     "name": "stderr",
     "output_type": "stream",
     "text": [
      "Loss=0.5219820141792297 Batch_id=390 Accuracy=86.59: 100%|██████████| 391/391 [00:48<00:00,  8.02it/s] \n"
     ]
    },
    {
     "name": "stdout",
     "output_type": "stream",
     "text": [
      "\n",
      "Test set: Average loss: 0.5011, Accuracy: 8398/10000 (83.98%)\n",
      "\n",
      "EPOCH: 42\n"
     ]
    },
    {
     "name": "stderr",
     "output_type": "stream",
     "text": [
      "Loss=0.35881519317626953 Batch_id=390 Accuracy=86.59: 100%|██████████| 391/391 [00:48<00:00,  7.99it/s]\n"
     ]
    },
    {
     "name": "stdout",
     "output_type": "stream",
     "text": [
      "\n",
      "Test set: Average loss: 0.4892, Accuracy: 8484/10000 (84.84%)\n",
      "\n",
      "EPOCH: 43\n"
     ]
    },
    {
     "name": "stderr",
     "output_type": "stream",
     "text": [
      "Loss=0.3536270260810852 Batch_id=390 Accuracy=86.77: 100%|██████████| 391/391 [00:49<00:00,  7.87it/s] \n"
     ]
    },
    {
     "name": "stdout",
     "output_type": "stream",
     "text": [
      "\n",
      "Test set: Average loss: 0.4832, Accuracy: 8494/10000 (84.94%)\n",
      "\n",
      "EPOCH: 44\n"
     ]
    },
    {
     "name": "stderr",
     "output_type": "stream",
     "text": [
      "Loss=0.4240899085998535 Batch_id=390 Accuracy=86.68: 100%|██████████| 391/391 [00:48<00:00,  7.98it/s] \n"
     ]
    },
    {
     "name": "stdout",
     "output_type": "stream",
     "text": [
      "\n",
      "Test set: Average loss: 0.4849, Accuracy: 8496/10000 (84.96%)\n",
      "\n",
      "EPOCH: 45\n"
     ]
    },
    {
     "name": "stderr",
     "output_type": "stream",
     "text": [
      "Loss=0.35344940423965454 Batch_id=390 Accuracy=86.63: 100%|██████████| 391/391 [00:48<00:00,  8.00it/s]\n"
     ]
    },
    {
     "name": "stdout",
     "output_type": "stream",
     "text": [
      "\n",
      "Test set: Average loss: 0.4717, Accuracy: 8486/10000 (84.86%)\n",
      "\n",
      "EPOCH: 46\n"
     ]
    },
    {
     "name": "stderr",
     "output_type": "stream",
     "text": [
      "Loss=0.4479371905326843 Batch_id=390 Accuracy=86.75: 100%|██████████| 391/391 [00:48<00:00,  8.00it/s] \n"
     ]
    },
    {
     "name": "stdout",
     "output_type": "stream",
     "text": [
      "\n",
      "Test set: Average loss: 0.5026, Accuracy: 8461/10000 (84.61%)\n",
      "\n",
      "EPOCH: 47\n"
     ]
    },
    {
     "name": "stderr",
     "output_type": "stream",
     "text": [
      "Loss=0.36875051259994507 Batch_id=390 Accuracy=86.65: 100%|██████████| 391/391 [00:49<00:00,  7.88it/s]\n"
     ]
    },
    {
     "name": "stdout",
     "output_type": "stream",
     "text": [
      "\n",
      "Test set: Average loss: 0.4791, Accuracy: 8500/10000 (85.00%)\n",
      "\n",
      "EPOCH: 48\n"
     ]
    },
    {
     "name": "stderr",
     "output_type": "stream",
     "text": [
      "Loss=0.4847451150417328 Batch_id=390 Accuracy=87.14: 100%|██████████| 391/391 [00:49<00:00,  7.92it/s] \n"
     ]
    },
    {
     "name": "stdout",
     "output_type": "stream",
     "text": [
      "\n",
      "Test set: Average loss: 0.5135, Accuracy: 8414/10000 (84.14%)\n",
      "\n",
      "EPOCH: 49\n"
     ]
    },
    {
     "name": "stderr",
     "output_type": "stream",
     "text": [
      "Loss=0.30503222346305847 Batch_id=390 Accuracy=86.94: 100%|██████████| 391/391 [00:48<00:00,  7.99it/s]\n"
     ]
    },
    {
     "name": "stdout",
     "output_type": "stream",
     "text": [
      "\n",
      "Test set: Average loss: 0.5353, Accuracy: 8377/10000 (83.77%)\n",
      "\n"
     ]
    },
    {
     "data": {
      "image/png": "[encoded data removed]",
      "text/plain": [
       "<Figure size 1500x1000 with 4 Axes>"
      ]
     },
     "metadata": {},
     "output_type": "display_data"
    }
   ],
   "source": [
    "# Running for 50 more epochs as eailer 50 was less\n",
    "EPOCHS = 50\n",
    "for epoch in range(EPOCHS):\n",
    "    print(\"EPOCH:\", epoch)\n",
    "    mhelper.train_model(model, device, train_loader, optimizer, epoch)\n",
    "    mhelper.test_model(model, device, test_loader)\n",
    "mhelper.plot()"
   ]
  },
  {
   "cell_type": "code",
   "execution_count": 7,
   "metadata": {},
   "outputs": [
    {
     "name": "stdout",
     "output_type": "stream",
     "text": [
      "EPOCH: 0\n"
     ]
    },
    {
     "name": "stderr",
     "output_type": "stream",
     "text": [
      "Loss=0.42267194390296936 Batch_id=390 Accuracy=87.02: 100%|██████████| 391/391 [00:49<00:00,  7.87it/s]\n"
     ]
    },
    {
     "name": "stdout",
     "output_type": "stream",
     "text": [
      "\n",
      "Test set: Average loss: 0.4898, Accuracy: 8443/10000 (84.43%)\n",
      "\n",
      "EPOCH: 1\n"
     ]
    },
    {
     "name": "stderr",
     "output_type": "stream",
     "text": [
      "Loss=0.28921791911125183 Batch_id=390 Accuracy=87.22: 100%|██████████| 391/391 [00:48<00:00,  8.01it/s]\n"
     ]
    },
    {
     "name": "stdout",
     "output_type": "stream",
     "text": [
      "\n",
      "Test set: Average loss: 0.4992, Accuracy: 8441/10000 (84.41%)\n",
      "\n",
      "EPOCH: 2\n"
     ]
    },
    {
     "name": "stderr",
     "output_type": "stream",
     "text": [
      "Loss=0.21762995421886444 Batch_id=390 Accuracy=86.89: 100%|██████████| 391/391 [00:49<00:00,  7.82it/s]\n"
     ]
    },
    {
     "name": "stdout",
     "output_type": "stream",
     "text": [
      "\n",
      "Test set: Average loss: 0.4877, Accuracy: 8505/10000 (85.05%)\n",
      "\n",
      "EPOCH: 3\n"
     ]
    },
    {
     "name": "stderr",
     "output_type": "stream",
     "text": [
      "Loss=0.3469441533088684 Batch_id=390 Accuracy=87.16: 100%|██████████| 391/391 [00:48<00:00,  8.02it/s] \n"
     ]
    },
    {
     "name": "stdout",
     "output_type": "stream",
     "text": [
      "\n",
      "Test set: Average loss: 0.4823, Accuracy: 8540/10000 (85.40%)\n",
      "\n",
      "EPOCH: 4\n"
     ]
    },
    {
     "name": "stderr",
     "output_type": "stream",
     "text": [
      "Loss=0.32767626643180847 Batch_id=390 Accuracy=87.28: 100%|██████████| 391/391 [00:48<00:00,  8.02it/s]\n"
     ]
    },
    {
     "name": "stdout",
     "output_type": "stream",
     "text": [
      "\n",
      "Test set: Average loss: 0.5268, Accuracy: 8394/10000 (83.94%)\n",
      "\n",
      "EPOCH: 5\n"
     ]
    },
    {
     "name": "stderr",
     "output_type": "stream",
     "text": [
      "Loss=0.2951236665248871 Batch_id=390 Accuracy=87.01: 100%|██████████| 391/391 [00:49<00:00,  7.85it/s] \n"
     ]
    },
    {
     "name": "stdout",
     "output_type": "stream",
     "text": [
      "\n",
      "Test set: Average loss: 0.4846, Accuracy: 8497/10000 (84.97%)\n",
      "\n",
      "EPOCH: 6\n"
     ]
    },
    {
     "name": "stderr",
     "output_type": "stream",
     "text": [
      "Loss=0.4308028221130371 Batch_id=390 Accuracy=87.23: 100%|██████████| 391/391 [00:48<00:00,  8.08it/s] \n"
     ]
    },
    {
     "name": "stdout",
     "output_type": "stream",
     "text": [
      "\n",
      "Test set: Average loss: 0.5070, Accuracy: 8450/10000 (84.50%)\n",
      "\n",
      "EPOCH: 7\n"
     ]
    },
    {
     "name": "stderr",
     "output_type": "stream",
     "text": [
      "Loss=0.3771403431892395 Batch_id=390 Accuracy=87.43: 100%|██████████| 391/391 [00:48<00:00,  7.99it/s] \n"
     ]
    },
    {
     "name": "stdout",
     "output_type": "stream",
     "text": [
      "\n",
      "Test set: Average loss: 0.5060, Accuracy: 8470/10000 (84.70%)\n",
      "\n",
      "EPOCH: 8\n"
     ]
    },
    {
     "name": "stderr",
     "output_type": "stream",
     "text": [
      "Loss=0.5299637317657471 Batch_id=390 Accuracy=87.36: 100%|██████████| 391/391 [00:49<00:00,  7.97it/s] \n"
     ]
    },
    {
     "name": "stdout",
     "output_type": "stream",
     "text": [
      "\n",
      "Test set: Average loss: 0.5123, Accuracy: 8411/10000 (84.11%)\n",
      "\n",
      "EPOCH: 9\n"
     ]
    },
    {
     "name": "stderr",
     "output_type": "stream",
     "text": [
      "Loss=0.4857165217399597 Batch_id=390 Accuracy=87.75: 100%|██████████| 391/391 [00:47<00:00,  8.17it/s] \n"
     ]
    },
    {
     "name": "stdout",
     "output_type": "stream",
     "text": [
      "\n",
      "Test set: Average loss: 0.5034, Accuracy: 8440/10000 (84.40%)\n",
      "\n",
      "EPOCH: 10\n"
     ]
    },
    {
     "name": "stderr",
     "output_type": "stream",
     "text": [
      "Loss=0.24368062615394592 Batch_id=390 Accuracy=87.54: 100%|██████████| 391/391 [00:47<00:00,  8.15it/s]\n"
     ]
    },
    {
     "name": "stdout",
     "output_type": "stream",
     "text": [
      "\n",
      "Test set: Average loss: 0.4959, Accuracy: 8491/10000 (84.91%)\n",
      "\n",
      "EPOCH: 11\n"
     ]
    },
    {
     "name": "stderr",
     "output_type": "stream",
     "text": [
      "Loss=0.31292447447776794 Batch_id=390 Accuracy=87.50: 100%|██████████| 391/391 [00:48<00:00,  8.10it/s]\n"
     ]
    },
    {
     "name": "stdout",
     "output_type": "stream",
     "text": [
      "\n",
      "Test set: Average loss: 0.4838, Accuracy: 8525/10000 (85.25%)\n",
      "\n",
      "EPOCH: 12\n"
     ]
    },
    {
     "name": "stderr",
     "output_type": "stream",
     "text": [
      "Loss=0.27543631196022034 Batch_id=390 Accuracy=87.64: 100%|██████████| 391/391 [00:47<00:00,  8.16it/s]\n"
     ]
    },
    {
     "name": "stdout",
     "output_type": "stream",
     "text": [
      "\n",
      "Test set: Average loss: 0.5328, Accuracy: 8407/10000 (84.07%)\n",
      "\n",
      "EPOCH: 13\n"
     ]
    },
    {
     "name": "stderr",
     "output_type": "stream",
     "text": [
      "Loss=0.5772727727890015 Batch_id=390 Accuracy=87.63: 100%|██████████| 391/391 [00:48<00:00,  8.02it/s] \n"
     ]
    },
    {
     "name": "stdout",
     "output_type": "stream",
     "text": [
      "\n",
      "Test set: Average loss: 0.5322, Accuracy: 8408/10000 (84.08%)\n",
      "\n",
      "EPOCH: 14\n"
     ]
    },
    {
     "name": "stderr",
     "output_type": "stream",
     "text": [
      "Loss=0.42689794301986694 Batch_id=390 Accuracy=87.78: 100%|██████████| 391/391 [00:48<00:00,  8.11it/s]\n"
     ]
    },
    {
     "name": "stdout",
     "output_type": "stream",
     "text": [
      "\n",
      "Test set: Average loss: 0.5062, Accuracy: 8486/10000 (84.86%)\n",
      "\n",
      "EPOCH: 15\n"
     ]
    },
    {
     "name": "stderr",
     "output_type": "stream",
     "text": [
      "Loss=0.38463538885116577 Batch_id=390 Accuracy=87.64: 100%|██████████| 391/391 [00:48<00:00,  8.13it/s]\n"
     ]
    },
    {
     "name": "stdout",
     "output_type": "stream",
     "text": [
      "\n",
      "Test set: Average loss: 0.5057, Accuracy: 8483/10000 (84.83%)\n",
      "\n",
      "EPOCH: 16\n"
     ]
    },
    {
     "name": "stderr",
     "output_type": "stream",
     "text": [
      "Loss=0.2832157015800476 Batch_id=390 Accuracy=87.30: 100%|██████████| 391/391 [00:49<00:00,  7.92it/s] \n"
     ]
    },
    {
     "name": "stdout",
     "output_type": "stream",
     "text": [
      "\n",
      "Test set: Average loss: 0.4677, Accuracy: 8515/10000 (85.15%)\n",
      "\n",
      "EPOCH: 17\n"
     ]
    },
    {
     "name": "stderr",
     "output_type": "stream",
     "text": [
      "Loss=0.32533907890319824 Batch_id=390 Accuracy=87.86: 100%|██████████| 391/391 [00:48<00:00,  8.00it/s]\n"
     ]
    },
    {
     "name": "stdout",
     "output_type": "stream",
     "text": [
      "\n",
      "Test set: Average loss: 0.4816, Accuracy: 8524/10000 (85.24%)\n",
      "\n",
      "EPOCH: 18\n"
     ]
    },
    {
     "name": "stderr",
     "output_type": "stream",
     "text": [
      "Loss=0.2690011262893677 Batch_id=49 Accuracy=87.89:  13%|█▎        | 50/391 [00:27<05:00,  1.14it/s] "
     ]
    }
   ],
   "source": [
    "EPOCHS = 50\n",
    "for epoch in range(EPOCHS):\n",
    "    print(\"EPOCH:\", epoch)\n",
    "    mhelper.train_model(model, device, train_loader, optimizer, epoch)\n",
    "    mhelper.test_model(model, device, test_loader)\n",
    "mhelper.plot()"
   ]
  },
  {
   "cell_type": "code",
   "execution_count": null,
   "metadata": {},
   "outputs": [],
   "source": []
  }
 ],
 "metadata": {
  "kernelspec": {
   "display_name": "ml",
   "language": "python",
   "name": "python3"
  },
  "language_info": {
   "codemirror_mode": {
    "name": "ipython",
    "version": 3
   },
   "file_extension": ".py",
   "mimetype": "text/x-python",
   "name": "python",
   "nbconvert_exporter": "python",
   "pygments_lexer": "ipython3",
   "version": "3.11.7"
  }
 },
 "nbformat": 4,
 "nbformat_minor": 2
}
