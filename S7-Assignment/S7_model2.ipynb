{
 "cells": [
  {
   "cell_type": "markdown",
   "metadata": {},
   "source": [
    "Attempt 2\n",
    "\n",
    "Targets: Add regularization add dropout, use smaller model with GAP \n",
    "Results:\n",
    "\n",
    "Parameters: 7,888\n",
    "\n",
    "Train Acc: 99.24%\n",
    "\n",
    "Test Acc: 99.28%\n",
    "\n",
    "Analysis:\n",
    "\n",
    "Using dropout helped with the overfitting , as we are adding dropout after each layer only a small amount 0.05 was sufficient, 0.1 reduced the test accuracy\n",
    "GAP layer helped with the slow increase in layer size\n",
    "\n",
    "Moving final layer after GAP helped with the capacity.\n",
    "The test accuracy is flickering a bit, moving Max pool after RF = 5 will help"
   ]
  },
  {
   "cell_type": "code",
   "execution_count": 1,
   "metadata": {},
   "outputs": [],
   "source": [
    "from __future__ import print_function\n",
    "import torch\n",
    "import torch.nn as nn\n",
    "import torch.nn.functional as F\n",
    "import torch.optim as optim\n",
    "from torchvision import datasets, transforms"
   ]
  },
  {
   "cell_type": "code",
   "execution_count": 2,
   "metadata": {},
   "outputs": [],
   "source": [
    "if torch.backends.mps.is_available():\n",
    "    # Apple Silicon GPU\n",
    "    device = \"mps\"\n",
    "    use_cuda = True\n",
    "elif torch.cuda.is_available():\n",
    "    # nVidia GPU\n",
    "    device = \"cuda\"\n",
    "    use_cuda = True\n",
    "else:\n",
    "    # CPU\n",
    "    device = \"cpu\""
   ]
  },
  {
   "cell_type": "code",
   "execution_count": 3,
   "metadata": {},
   "outputs": [],
   "source": [
    "# Train Phase transformations\n",
    "train_transforms = transforms.Compose(\n",
    "    [\n",
    "        transforms.ToTensor(),\n",
    "        transforms.Normalize((0.1307,), (0.3081,)),\n",
    "    ]\n",
    ")\n",
    "\n",
    "# Test Phase transformations\n",
    "test_transforms = transforms.Compose(\n",
    "    [transforms.ToTensor(), transforms.Normalize((0.1307,), (0.3081,))]\n",
    ")"
   ]
  },
  {
   "cell_type": "code",
   "execution_count": 4,
   "metadata": {},
   "outputs": [],
   "source": [
    "train = datasets.MNIST('./data', train=True, download=True, transform=train_transforms)\n",
    "test = datasets.MNIST('./data', train=False, download=True, transform=test_transforms)"
   ]
  },
  {
   "cell_type": "code",
   "execution_count": 5,
   "metadata": {},
   "outputs": [],
   "source": [
    "# dataloader arguments - something you'll fetch these from cmdprmt\n",
    "dataloader_args = dict(shuffle=True, batch_size=128, num_workers=4, pin_memory=True) if use_cuda else dict(shuffle=True, batch_size=64)\n",
    "\n",
    "# train dataloader\n",
    "train_loader = torch.utils.data.DataLoader(train, **dataloader_args)\n",
    "\n",
    "# test dataloader\n",
    "test_loader = torch.utils.data.DataLoader(test, **dataloader_args)"
   ]
  },
  {
   "cell_type": "code",
   "execution_count": 6,
   "metadata": {},
   "outputs": [],
   "source": [
    "\n",
    "from tqdm import tqdm\n",
    "\n",
    "\n",
    "def train_model(model, device, train_loader, optimizer, epoch):\n",
    "  model.train()\n",
    "  pbar = tqdm(train_loader)\n",
    "  correct = 0\n",
    "  processed = 0\n",
    "  for batch_idx, (data, target) in enumerate(pbar):\n",
    "    # get samples\n",
    "    data, target = data.to(device), target.to(device)\n",
    "\n",
    "    # Init\n",
    "    optimizer.zero_grad()\n",
    "    # In PyTorch, we need to set the gradients to zero before starting to do backpropragation because PyTorch accumulates the gradients on subsequent backward passes. \n",
    "    # Because of this, when you start your training loop, ideally you should zero out the gradients so that you do the parameter update correctly.\n",
    "\n",
    "    # Predict\n",
    "    y_pred = model(data)\n",
    "\n",
    "    # Calculate loss\n",
    "    loss = F.nll_loss(y_pred, target)\n",
    "    train_losses.append(loss)\n",
    "\n",
    "    # Backpropagation\n",
    "    loss.backward()\n",
    "    optimizer.step()\n",
    "\n",
    "    # Update pbar-tqdm\n",
    "    \n",
    "    pred = y_pred.argmax(dim=1, keepdim=True)  # get the index of the max log-probability\n",
    "    correct += pred.eq(target.view_as(pred)).sum().item()\n",
    "    processed += len(data)\n",
    "\n",
    "    pbar.set_description(desc= f'Loss={loss.item()} Batch_id={batch_idx} Accuracy={100*correct/processed:0.2f}')\n",
    "    train_acc.append(100*correct/processed)\n",
    "\n",
    "def test_model(model, device, test_loader):\n",
    "    model.eval()\n",
    "    test_loss = 0\n",
    "    correct = 0\n",
    "    with torch.no_grad():\n",
    "        for data, target in test_loader:\n",
    "            data, target = data.to(device), target.to(device)\n",
    "            output = model(data)\n",
    "            test_loss += F.nll_loss(output, target, reduction='sum').item()  # sum up batch loss\n",
    "            pred = output.argmax(dim=1, keepdim=True)  # get the index of the max log-probability\n",
    "            correct += pred.eq(target.view_as(pred)).sum().item()\n",
    "\n",
    "    test_loss /= len(test_loader.dataset)\n",
    "    test_losses.append(test_loss)\n",
    "\n",
    "    print('\\nTest set: Average loss: {:.4f}, Accuracy: {}/{} ({:.2f}%)\\n'.format(\n",
    "        test_loss, correct, len(test_loader.dataset),\n",
    "        100. * correct / len(test_loader.dataset)))\n",
    "    \n",
    "    test_acc.append(100. * correct / len(test_loader.dataset))\n",
    "def plot(train_losses, test_losses, train_acc, test_acc):\n",
    "    t = [t_items.item() for t_items in train_losses]\n",
    "    %matplotlib inline\n",
    "    import matplotlib.pyplot as plt\n",
    "    fig, axs = plt.subplots(2,2,figsize=(15,10))\n",
    "    axs[0, 0].plot(t)\n",
    "    axs[0, 0].set_title(\"Training Loss\")\n",
    "    axs[1, 0].plot(train_acc)\n",
    "    axs[1, 0].set_title(\"Training Accuracy\")\n",
    "    axs[0, 1].plot(test_losses)\n",
    "    axs[0, 1].set_title(\"Test Loss\")\n",
    "    axs[1, 1].plot(test_acc)\n",
    "    axs[1, 1].set_title(\"Test Accuracy\")\n"
   ]
  },
  {
   "cell_type": "code",
   "execution_count": 7,
   "metadata": {},
   "outputs": [],
   "source": [
    "from models import Model_2"
   ]
  },
  {
   "cell_type": "code",
   "execution_count": 8,
   "metadata": {},
   "outputs": [
    {
     "name": "stdout",
     "output_type": "stream",
     "text": [
      "Requirement already satisfied: torchsummary in /Users/horz/miniconda3/envs/ml/lib/python3.11/site-packages (1.5.1)\n",
      "----------------------------------------------------------------\n",
      "        Layer (type)               Output Shape         Param #\n",
      "================================================================\n",
      "            Conv2d-1            [-1, 8, 26, 26]              72\n",
      "              ReLU-2            [-1, 8, 26, 26]               0\n",
      "       BatchNorm2d-3            [-1, 8, 26, 26]              16\n",
      "           Dropout-4            [-1, 8, 26, 26]               0\n",
      "            Conv2d-5            [-1, 9, 24, 24]             648\n",
      "              ReLU-6            [-1, 9, 24, 24]               0\n",
      "       BatchNorm2d-7            [-1, 9, 24, 24]              18\n",
      "           Dropout-8            [-1, 9, 24, 24]               0\n",
      "            Conv2d-9           [-1, 10, 22, 22]             810\n",
      "             ReLU-10           [-1, 10, 22, 22]               0\n",
      "      BatchNorm2d-11           [-1, 10, 22, 22]              20\n",
      "          Dropout-12           [-1, 10, 22, 22]               0\n",
      "        MaxPool2d-13           [-1, 10, 11, 11]               0\n",
      "           Conv2d-14             [-1, 16, 9, 9]           1,440\n",
      "             ReLU-15             [-1, 16, 9, 9]               0\n",
      "      BatchNorm2d-16             [-1, 16, 9, 9]              32\n",
      "          Dropout-17             [-1, 16, 9, 9]               0\n",
      "           Conv2d-18             [-1, 16, 7, 7]           2,304\n",
      "             ReLU-19             [-1, 16, 7, 7]               0\n",
      "      BatchNorm2d-20             [-1, 16, 7, 7]              32\n",
      "          Dropout-21             [-1, 16, 7, 7]               0\n",
      "           Conv2d-22             [-1, 16, 5, 5]           2,304\n",
      "             ReLU-23             [-1, 16, 5, 5]               0\n",
      "      BatchNorm2d-24             [-1, 16, 5, 5]              32\n",
      "          Dropout-25             [-1, 16, 5, 5]               0\n",
      "        AvgPool2d-26             [-1, 16, 1, 1]               0\n",
      "           Conv2d-27             [-1, 10, 1, 1]             160\n",
      "================================================================\n",
      "Total params: 7,888\n",
      "Trainable params: 7,888\n",
      "Non-trainable params: 0\n",
      "----------------------------------------------------------------\n",
      "Input size (MB): 0.00\n",
      "Forward/backward pass size (MB): 0.56\n",
      "Params size (MB): 0.03\n",
      "Estimated Total Size (MB): 0.59\n",
      "----------------------------------------------------------------\n",
      "Running models on:  mps\n"
     ]
    }
   ],
   "source": [
    "!pip install torchsummary\n",
    "from torchsummary import summary\n",
    "\n",
    "# run summary on cpu first then shift to device\n",
    "model = Model_2().to(\"cpu\")\n",
    "summary(model, input_size=(1, 28, 28))\n",
    "\n",
    "\n",
    "print(\"Running models on: \", device)"
   ]
  },
  {
   "cell_type": "code",
   "execution_count": 9,
   "metadata": {},
   "outputs": [
    {
     "name": "stdout",
     "output_type": "stream",
     "text": [
      "EPOCH: 0\n"
     ]
    },
    {
     "name": "stderr",
     "output_type": "stream",
     "text": [
      "Loss=0.11589010804891586 Batch_id=468 Accuracy=91.45: 100%|██████████| 469/469 [00:08<00:00, 53.73it/s] \n"
     ]
    },
    {
     "name": "stdout",
     "output_type": "stream",
     "text": [
      "\n",
      "Test set: Average loss: 0.0711, Accuracy: 9801/10000 (98.01%)\n",
      "\n",
      "EPOCH: 1\n"
     ]
    },
    {
     "name": "stderr",
     "output_type": "stream",
     "text": [
      "Loss=0.08949112892150879 Batch_id=468 Accuracy=98.12: 100%|██████████| 469/469 [00:07<00:00, 60.50it/s] \n"
     ]
    },
    {
     "name": "stdout",
     "output_type": "stream",
     "text": [
      "\n",
      "Test set: Average loss: 0.0415, Accuracy: 9874/10000 (98.74%)\n",
      "\n",
      "EPOCH: 2\n"
     ]
    },
    {
     "name": "stderr",
     "output_type": "stream",
     "text": [
      "Loss=0.12017813324928284 Batch_id=468 Accuracy=98.42: 100%|██████████| 469/469 [00:07<00:00, 60.47it/s] \n"
     ]
    },
    {
     "name": "stdout",
     "output_type": "stream",
     "text": [
      "\n",
      "Test set: Average loss: 0.0371, Accuracy: 9883/10000 (98.83%)\n",
      "\n",
      "EPOCH: 3\n"
     ]
    },
    {
     "name": "stderr",
     "output_type": "stream",
     "text": [
      "Loss=0.06249154731631279 Batch_id=468 Accuracy=98.69: 100%|██████████| 469/469 [00:07<00:00, 59.65it/s] \n"
     ]
    },
    {
     "name": "stdout",
     "output_type": "stream",
     "text": [
      "\n",
      "Test set: Average loss: 0.0357, Accuracy: 9886/10000 (98.86%)\n",
      "\n",
      "EPOCH: 4\n"
     ]
    },
    {
     "name": "stderr",
     "output_type": "stream",
     "text": [
      "Loss=0.022356653586030006 Batch_id=468 Accuracy=98.71: 100%|██████████| 469/469 [00:07<00:00, 59.92it/s] \n"
     ]
    },
    {
     "name": "stdout",
     "output_type": "stream",
     "text": [
      "\n",
      "Test set: Average loss: 0.0304, Accuracy: 9901/10000 (99.01%)\n",
      "\n",
      "EPOCH: 5\n"
     ]
    },
    {
     "name": "stderr",
     "output_type": "stream",
     "text": [
      "Loss=0.0533631332218647 Batch_id=468 Accuracy=98.88: 100%|██████████| 469/469 [00:08<00:00, 56.30it/s]   \n"
     ]
    },
    {
     "name": "stdout",
     "output_type": "stream",
     "text": [
      "\n",
      "Test set: Average loss: 0.0303, Accuracy: 9903/10000 (99.03%)\n",
      "\n",
      "EPOCH: 6\n"
     ]
    },
    {
     "name": "stderr",
     "output_type": "stream",
     "text": [
      "Loss=0.006043913308531046 Batch_id=468 Accuracy=98.95: 100%|██████████| 469/469 [00:08<00:00, 55.35it/s] \n"
     ]
    },
    {
     "name": "stdout",
     "output_type": "stream",
     "text": [
      "\n",
      "Test set: Average loss: 0.0227, Accuracy: 9926/10000 (99.26%)\n",
      "\n",
      "EPOCH: 7\n"
     ]
    },
    {
     "name": "stderr",
     "output_type": "stream",
     "text": [
      "Loss=0.02029491774737835 Batch_id=468 Accuracy=98.99: 100%|██████████| 469/469 [00:08<00:00, 57.94it/s]  \n"
     ]
    },
    {
     "name": "stdout",
     "output_type": "stream",
     "text": [
      "\n",
      "Test set: Average loss: 0.0241, Accuracy: 9923/10000 (99.23%)\n",
      "\n",
      "EPOCH: 8\n"
     ]
    },
    {
     "name": "stderr",
     "output_type": "stream",
     "text": [
      "Loss=0.02575160376727581 Batch_id=468 Accuracy=98.96: 100%|██████████| 469/469 [00:08<00:00, 58.41it/s]  \n"
     ]
    },
    {
     "name": "stdout",
     "output_type": "stream",
     "text": [
      "\n",
      "Test set: Average loss: 0.0250, Accuracy: 9930/10000 (99.30%)\n",
      "\n",
      "EPOCH: 9\n"
     ]
    },
    {
     "name": "stderr",
     "output_type": "stream",
     "text": [
      "Loss=0.008223997429013252 Batch_id=468 Accuracy=99.05: 100%|██████████| 469/469 [00:08<00:00, 58.53it/s] \n"
     ]
    },
    {
     "name": "stdout",
     "output_type": "stream",
     "text": [
      "\n",
      "Test set: Average loss: 0.0274, Accuracy: 9926/10000 (99.26%)\n",
      "\n",
      "EPOCH: 10\n"
     ]
    },
    {
     "name": "stderr",
     "output_type": "stream",
     "text": [
      "Loss=0.021500682458281517 Batch_id=468 Accuracy=99.09: 100%|██████████| 469/469 [00:08<00:00, 58.43it/s] \n"
     ]
    },
    {
     "name": "stdout",
     "output_type": "stream",
     "text": [
      "\n",
      "Test set: Average loss: 0.0265, Accuracy: 9913/10000 (99.13%)\n",
      "\n",
      "EPOCH: 11\n"
     ]
    },
    {
     "name": "stderr",
     "output_type": "stream",
     "text": [
      "Loss=0.05863500013947487 Batch_id=468 Accuracy=99.07: 100%|██████████| 469/469 [00:08<00:00, 57.61it/s]  \n"
     ]
    },
    {
     "name": "stdout",
     "output_type": "stream",
     "text": [
      "\n",
      "Test set: Average loss: 0.0262, Accuracy: 9910/10000 (99.10%)\n",
      "\n",
      "EPOCH: 12\n"
     ]
    },
    {
     "name": "stderr",
     "output_type": "stream",
     "text": [
      "Loss=0.03622681275010109 Batch_id=468 Accuracy=99.12: 100%|██████████| 469/469 [00:08<00:00, 57.66it/s]  \n"
     ]
    },
    {
     "name": "stdout",
     "output_type": "stream",
     "text": [
      "\n",
      "Test set: Average loss: 0.0249, Accuracy: 9917/10000 (99.17%)\n",
      "\n",
      "EPOCH: 13\n"
     ]
    },
    {
     "name": "stderr",
     "output_type": "stream",
     "text": [
      "Loss=0.04783669114112854 Batch_id=468 Accuracy=99.14: 100%|██████████| 469/469 [00:08<00:00, 54.99it/s]  \n"
     ]
    },
    {
     "name": "stdout",
     "output_type": "stream",
     "text": [
      "\n",
      "Test set: Average loss: 0.0243, Accuracy: 9924/10000 (99.24%)\n",
      "\n",
      "EPOCH: 14\n"
     ]
    },
    {
     "name": "stderr",
     "output_type": "stream",
     "text": [
      "Loss=0.05815286934375763 Batch_id=468 Accuracy=99.24: 100%|██████████| 469/469 [00:08<00:00, 57.85it/s]  \n"
     ]
    },
    {
     "name": "stdout",
     "output_type": "stream",
     "text": [
      "\n",
      "Test set: Average loss: 0.0234, Accuracy: 9928/10000 (99.28%)\n",
      "\n"
     ]
    },
    {
     "data": {
      "image/png": "[encoded data removed]",
      "text/plain": [
       "<Figure size 1500x1000 with 4 Axes>"
      ]
     },
     "metadata": {},
     "output_type": "display_data"
    }
   ],
   "source": [
    "train_losses = []\n",
    "test_losses = []\n",
    "train_acc = []\n",
    "test_acc = []\n",
    "model =  Model_3().to(device)\n",
    "optimizer = optim.SGD(model.parameters(), lr=0.01, momentum=0.9)\n",
    "# scheduler = optim.lr_scheduler.StepLR(optimizer, step_size=5, gamma=0.5)\n",
    "EPOCHS = 15\n",
    "for epoch in range(EPOCHS):\n",
    "    print(\"EPOCH:\", epoch)\n",
    "    train_model(model, device, train_loader, optimizer, epoch)\n",
    "    test_model(model, device, test_loader)\n",
    "    # scheduler.step()\n",
    "    # print(\"Current LR:\", scheduler.get_last_lr())\n",
    "    \n",
    "\n",
    "plot(train_losses, test_losses, train_acc, test_acc)"
   ]
  },
  {
   "cell_type": "code",
   "execution_count": null,
   "metadata": {},
   "outputs": [],
   "source": []
  }
 ],
 "metadata": {
  "kernelspec": {
   "display_name": "ml",
   "language": "python",
   "name": "python3"
  },
  "language_info": {
   "codemirror_mode": {
    "name": "ipython",
    "version": 3
   },
   "file_extension": ".py",
   "mimetype": "text/x-python",
   "name": "python",
   "nbconvert_exporter": "python",
   "pygments_lexer": "ipython3",
   "version": "3.11.7"
  }
 },
 "nbformat": 4,
 "nbformat_minor": 2
}
