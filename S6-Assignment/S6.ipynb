{
 "cells": [
  {
   "cell_type": "code",
   "execution_count": 37,
   "metadata": {},
   "outputs": [],
   "source": [
    "from __future__ import print_function\n",
    "import torch\n",
    "import torch.nn as nn\n",
    "import torch.nn.functional as F\n",
    "import torch.optim as optim\n",
    "from torchvision import datasets, transforms"
   ]
  },
  {
   "cell_type": "code",
   "execution_count": 38,
   "metadata": {},
   "outputs": [],
   "source": [
    "# My custom Model\n",
    "class Net(nn.Module):\n",
    "    def __init__(self):\n",
    "        super(Net, self).__init__()\n",
    "        \n",
    "        self.conv1 = nn.Conv2d(1, 16, 3,padding=1) #28\n",
    "        self.batNorm1 = nn.BatchNorm2d(16)\n",
    "        self.conv2 = nn.Conv2d(16, 16, 3, padding=1) #28\n",
    "        self.batNorm2 = nn.BatchNorm2d(16)\n",
    "        self.conv3 = nn.Conv2d(16, 16, 3, padding=1) #28\n",
    "        self.batNorm3 = nn.BatchNorm2d(16)\n",
    "        self.pool1 = nn.MaxPool2d(2, 2) # 14\n",
    "        self.drop1 = nn.Dropout(0.20)\n",
    "        \n",
    "        self.conv4 = nn.Conv2d(16, 16, 3, padding=1) #14\n",
    "        self.batNorm4 = nn.BatchNorm2d(16)\n",
    "        self.conv5 = nn.Conv2d(16, 16, 3, padding=1) #14\n",
    "        self.batNorm5 = nn.BatchNorm2d(16)\n",
    "        self.conv6 = nn.Conv2d(16, 16, 3, padding=1) #14\n",
    "        self.batNorm6 = nn.BatchNorm2d(16)\n",
    "        self.pool2 = nn.MaxPool2d(2, 2) # 7\n",
    "        self.drop2 = nn.Dropout(0.20)\n",
    "        \n",
    "        self.conv7 = nn.Conv2d(16, 16, 3, padding=1) #7\n",
    "        self.batNorm7 = nn.BatchNorm2d(16)\n",
    "        self.conv8 = nn.Conv2d(16, 16, 3, padding=1) #7\n",
    "        self.batNorm8 = nn.BatchNorm2d(16)\n",
    "        self.conv9 = nn.Conv2d(16, 16, 3, padding=1) #7\n",
    "        self.batNorm9 = nn.BatchNorm2d(16)\n",
    "        self.drop3 = nn.Dropout(0.15)\n",
    "    \n",
    "        self.fc1 = nn.Linear(16,10)\n",
    "\n",
    "\n",
    "    def forward(self, x):\n",
    "        x = self.batNorm1(F.relu(self.conv1(x)))\n",
    "        x = self.batNorm2(F.relu(self.conv2(x)))\n",
    "        x = self.batNorm3(F.relu(self.conv3(x)))\n",
    "        x = self.drop1(self.pool1(x))\n",
    "        \n",
    "        x = self.batNorm4(F.relu(self.conv4(x)))\n",
    "        x = self.batNorm5(F.relu(self.conv5(x)))\n",
    "        x = self.batNorm6(F.relu(self.conv6(x)))\n",
    "        x = self.drop2(self.pool2(x))\n",
    "        \n",
    "        x = self.batNorm7(F.relu(self.conv7(x)))\n",
    "        x = self.batNorm8(F.relu(self.conv8(x)))\n",
    "        x = self.batNorm9(F.relu(self.conv9(x)))\n",
    "        x = self.drop3(x)\n",
    "        \n",
    "        # GAP layer\n",
    "        x = F.adaptive_avg_pool2d(x, (1, 1)).view(x.size(0), -1)\n",
    "        x = self.fc1(x)\n",
    "        \n",
    "        \n",
    "        return F.log_softmax(x)"
   ]
  },
  {
   "cell_type": "code",
   "execution_count": 39,
   "metadata": {},
   "outputs": [
    {
     "name": "stdout",
     "output_type": "stream",
     "text": [
      "Requirement already satisfied: torchsummary in /Users/horz/miniconda3/envs/ml/lib/python3.11/site-packages (1.5.1)\n",
      "----------------------------------------------------------------\n",
      "        Layer (type)               Output Shape         Param #\n",
      "================================================================\n",
      "            Conv2d-1           [-1, 16, 28, 28]             160\n",
      "       BatchNorm2d-2           [-1, 16, 28, 28]              32\n",
      "            Conv2d-3           [-1, 16, 28, 28]           2,320\n",
      "       BatchNorm2d-4           [-1, 16, 28, 28]              32\n",
      "            Conv2d-5           [-1, 16, 28, 28]           2,320\n",
      "       BatchNorm2d-6           [-1, 16, 28, 28]              32\n",
      "         MaxPool2d-7           [-1, 16, 14, 14]               0\n",
      "           Dropout-8           [-1, 16, 14, 14]               0\n",
      "            Conv2d-9           [-1, 16, 14, 14]           2,320\n",
      "      BatchNorm2d-10           [-1, 16, 14, 14]              32\n",
      "           Conv2d-11           [-1, 16, 14, 14]           2,320\n",
      "      BatchNorm2d-12           [-1, 16, 14, 14]              32\n",
      "           Conv2d-13           [-1, 16, 14, 14]           2,320\n",
      "      BatchNorm2d-14           [-1, 16, 14, 14]              32\n",
      "        MaxPool2d-15             [-1, 16, 7, 7]               0\n",
      "          Dropout-16             [-1, 16, 7, 7]               0\n",
      "           Conv2d-17             [-1, 16, 7, 7]           2,320\n",
      "      BatchNorm2d-18             [-1, 16, 7, 7]              32\n",
      "           Conv2d-19             [-1, 16, 7, 7]           2,320\n",
      "      BatchNorm2d-20             [-1, 16, 7, 7]              32\n",
      "           Conv2d-21             [-1, 16, 7, 7]           2,320\n",
      "      BatchNorm2d-22             [-1, 16, 7, 7]              32\n",
      "          Dropout-23             [-1, 16, 7, 7]               0\n",
      "           Linear-24                   [-1, 10]             170\n",
      "================================================================\n",
      "Total params: 19,178\n",
      "Trainable params: 19,178\n",
      "Non-trainable params: 0\n",
      "----------------------------------------------------------------\n",
      "Input size (MB): 0.00\n",
      "Forward/backward pass size (MB): 0.82\n",
      "Params size (MB): 0.07\n",
      "Estimated Total Size (MB): 0.90\n",
      "----------------------------------------------------------------\n",
      "Running models on:  mps\n"
     ]
    },
    {
     "name": "stderr",
     "output_type": "stream",
     "text": [
      "/var/folders/6x/skj50cf15297r_q8sp6r6rwr0000gn/T/ipykernel_71893/3091036924.py:56: UserWarning: Implicit dimension choice for log_softmax has been deprecated. Change the call to include dim=X as an argument.\n",
      "  return F.log_softmax(x)\n"
     ]
    }
   ],
   "source": [
    "!pip install torchsummary\n",
    "from torchsummary import summary\n",
    "\n",
    "# run summary on cpu first then shift to device\n",
    "model = Net().to(\"cpu\")\n",
    "summary(model, input_size=(1, 28, 28))\n",
    "\n",
    "if torch.backends.mps.is_available():\n",
    "    # Apple Silicon GPU\n",
    "    device = \"mps\"\n",
    "    use_cuda = True\n",
    "elif torch.cuda.is_available():\n",
    "    # nVidia GPU\n",
    "    device = \"cuda\"\n",
    "    use_cuda = True\n",
    "else:\n",
    "    # CPU\n",
    "    device = \"cpu\"\n",
    "print(\"Running models on: \", device)\n"
   ]
  },
  {
   "cell_type": "code",
   "execution_count": 47,
   "metadata": {},
   "outputs": [],
   "source": [
    "\n",
    "\n",
    "torch.manual_seed(1)\n",
    "batch_size = 128\n",
    "\n",
    "kwargs = {'num_workers': 1, 'pin_memory': True} if use_cuda else {}\n",
    "train_loader = torch.utils.data.DataLoader(\n",
    "    datasets.MNIST('../data', train=True, download=True,\n",
    "                    transform=transforms.Compose([\n",
    "                        transforms.ToTensor(),\n",
    "                        transforms.Normalize((0.1307,), (0.3081,))\n",
    "                    ])),\n",
    "    batch_size=batch_size, shuffle=True, **kwargs)\n",
    "test_loader = torch.utils.data.DataLoader(\n",
    "    datasets.MNIST('../data', train=False, transform=transforms.Compose([\n",
    "                        transforms.ToTensor(),\n",
    "                        transforms.Normalize((0.1307,), (0.3081,))\n",
    "                    ])),\n",
    "    batch_size=batch_size, shuffle=True, **kwargs)\n"
   ]
  },
  {
   "cell_type": "code",
   "execution_count": 48,
   "metadata": {},
   "outputs": [],
   "source": [
    "from tqdm import tqdm\n",
    "def train(model, device, train_loader, optimizer, epoch):\n",
    "    model.train()\n",
    "    pbar = tqdm(train_loader)\n",
    "    for batch_idx, (data, target) in enumerate(pbar):\n",
    "        data, target = data.to(device), target.to(device)\n",
    "        optimizer.zero_grad()\n",
    "        output = model(data)\n",
    "        loss = F.nll_loss(output, target)\n",
    "        loss.backward()\n",
    "        optimizer.step()\n",
    "        pbar.set_description(desc= f'loss={loss.item()} batch_id={batch_idx}')\n",
    "\n",
    "\n",
    "def test(model, device, test_loader):\n",
    "    model.eval()\n",
    "    test_loss = 0\n",
    "    correct = 0\n",
    "    with torch.no_grad():\n",
    "        for data, target in test_loader:\n",
    "            data, target = data.to(device), target.to(device)\n",
    "            output = model(data)\n",
    "            test_loss += F.nll_loss(output, target, reduction='sum').item()  # sum up batch loss\n",
    "            pred = output.argmax(dim=1, keepdim=True)  # get the index of the max log-probability\n",
    "            correct += pred.eq(target.view_as(pred)).sum().item()\n",
    "\n",
    "    test_loss /= len(test_loader.dataset)\n",
    "\n",
    "    print('\\nTest set: Average loss: {:.4f}, Accuracy: {}/{} ({:.0f}%)\\n'.format(\n",
    "        test_loss, correct, len(test_loader.dataset),\n",
    "        100. * correct / len(test_loader.dataset)))"
   ]
  },
  {
   "cell_type": "code",
   "execution_count": 49,
   "metadata": {},
   "outputs": [
    {
     "name": "stderr",
     "output_type": "stream",
     "text": [
      "  0%|          | 0/469 [00:00<?, ?it/s]"
     ]
    },
    {
     "name": "stderr",
     "output_type": "stream",
     "text": [
      "/var/folders/6x/skj50cf15297r_q8sp6r6rwr0000gn/T/ipykernel_71893/3091036924.py:56: UserWarning: Implicit dimension choice for log_softmax has been deprecated. Change the call to include dim=X as an argument.\n",
      "  return F.log_softmax(x)\n",
      "loss=0.13106082379817963 batch_id=468: 100%|██████████| 469/469 [00:13<00:00, 34.59it/s] \n"
     ]
    },
    {
     "name": "stdout",
     "output_type": "stream",
     "text": [
      "\n",
      "Test set: Average loss: 0.0776, Accuracy: 9777/10000 (98%)\n",
      "\n"
     ]
    },
    {
     "name": "stderr",
     "output_type": "stream",
     "text": [
      "loss=0.08497384935617447 batch_id=468: 100%|██████████| 469/469 [00:12<00:00, 38.19it/s] \n"
     ]
    },
    {
     "name": "stdout",
     "output_type": "stream",
     "text": [
      "\n",
      "Test set: Average loss: 0.0418, Accuracy: 9876/10000 (99%)\n",
      "\n"
     ]
    },
    {
     "name": "stderr",
     "output_type": "stream",
     "text": [
      "loss=0.01756415329873562 batch_id=468: 100%|██████████| 469/469 [00:12<00:00, 37.49it/s] \n"
     ]
    },
    {
     "name": "stdout",
     "output_type": "stream",
     "text": [
      "\n",
      "Test set: Average loss: 0.0330, Accuracy: 9895/10000 (99%)\n",
      "\n"
     ]
    },
    {
     "name": "stderr",
     "output_type": "stream",
     "text": [
      "loss=0.008575481362640858 batch_id=468: 100%|██████████| 469/469 [00:12<00:00, 38.22it/s] \n"
     ]
    },
    {
     "name": "stdout",
     "output_type": "stream",
     "text": [
      "\n",
      "Test set: Average loss: 0.0292, Accuracy: 9899/10000 (99%)\n",
      "\n"
     ]
    },
    {
     "name": "stderr",
     "output_type": "stream",
     "text": [
      "loss=0.04897298291325569 batch_id=468: 100%|██████████| 469/469 [00:12<00:00, 38.06it/s]  \n"
     ]
    },
    {
     "name": "stdout",
     "output_type": "stream",
     "text": [
      "\n",
      "Test set: Average loss: 0.0257, Accuracy: 9919/10000 (99%)\n",
      "\n"
     ]
    },
    {
     "name": "stderr",
     "output_type": "stream",
     "text": [
      "loss=0.04287554696202278 batch_id=468: 100%|██████████| 469/469 [00:12<00:00, 37.71it/s]  \n"
     ]
    },
    {
     "name": "stdout",
     "output_type": "stream",
     "text": [
      "\n",
      "Test set: Average loss: 0.0287, Accuracy: 9914/10000 (99%)\n",
      "\n"
     ]
    },
    {
     "name": "stderr",
     "output_type": "stream",
     "text": [
      "loss=0.055929601192474365 batch_id=468: 100%|██████████| 469/469 [00:13<00:00, 35.87it/s] \n"
     ]
    },
    {
     "name": "stdout",
     "output_type": "stream",
     "text": [
      "\n",
      "Test set: Average loss: 0.0301, Accuracy: 9906/10000 (99%)\n",
      "\n"
     ]
    },
    {
     "name": "stderr",
     "output_type": "stream",
     "text": [
      "loss=0.12141824513673782 batch_id=468: 100%|██████████| 469/469 [00:12<00:00, 37.55it/s]  \n"
     ]
    },
    {
     "name": "stdout",
     "output_type": "stream",
     "text": [
      "\n",
      "Test set: Average loss: 0.0231, Accuracy: 9928/10000 (99%)\n",
      "\n"
     ]
    },
    {
     "name": "stderr",
     "output_type": "stream",
     "text": [
      "loss=0.013945505954325199 batch_id=468: 100%|██████████| 469/469 [00:12<00:00, 37.35it/s] \n"
     ]
    },
    {
     "name": "stdout",
     "output_type": "stream",
     "text": [
      "\n",
      "Test set: Average loss: 0.0227, Accuracy: 9920/10000 (99%)\n",
      "\n"
     ]
    },
    {
     "name": "stderr",
     "output_type": "stream",
     "text": [
      "loss=0.005413617938756943 batch_id=468: 100%|██████████| 469/469 [00:12<00:00, 36.91it/s] \n"
     ]
    },
    {
     "name": "stdout",
     "output_type": "stream",
     "text": [
      "\n",
      "Test set: Average loss: 0.0216, Accuracy: 9929/10000 (99%)\n",
      "\n"
     ]
    },
    {
     "name": "stderr",
     "output_type": "stream",
     "text": [
      "loss=0.013409978710114956 batch_id=468: 100%|██████████| 469/469 [00:12<00:00, 37.64it/s] \n"
     ]
    },
    {
     "name": "stdout",
     "output_type": "stream",
     "text": [
      "\n",
      "Test set: Average loss: 0.0210, Accuracy: 9937/10000 (99%)\n",
      "\n"
     ]
    },
    {
     "name": "stderr",
     "output_type": "stream",
     "text": [
      "loss=0.04868972674012184 batch_id=468: 100%|██████████| 469/469 [00:12<00:00, 37.15it/s]  \n"
     ]
    },
    {
     "name": "stdout",
     "output_type": "stream",
     "text": [
      "\n",
      "Test set: Average loss: 0.0165, Accuracy: 9942/10000 (99%)\n",
      "\n"
     ]
    },
    {
     "name": "stderr",
     "output_type": "stream",
     "text": [
      "loss=0.04122388735413551 batch_id=468: 100%|██████████| 469/469 [00:12<00:00, 38.48it/s]  \n"
     ]
    },
    {
     "name": "stdout",
     "output_type": "stream",
     "text": [
      "\n",
      "Test set: Average loss: 0.0216, Accuracy: 9929/10000 (99%)\n",
      "\n"
     ]
    },
    {
     "name": "stderr",
     "output_type": "stream",
     "text": [
      "loss=0.0027579888701438904 batch_id=468: 100%|██████████| 469/469 [00:12<00:00, 37.89it/s]\n"
     ]
    },
    {
     "name": "stdout",
     "output_type": "stream",
     "text": [
      "\n",
      "Test set: Average loss: 0.0189, Accuracy: 9938/10000 (99%)\n",
      "\n"
     ]
    },
    {
     "name": "stderr",
     "output_type": "stream",
     "text": [
      "loss=0.034088000655174255 batch_id=468: 100%|██████████| 469/469 [00:13<00:00, 35.48it/s] \n"
     ]
    },
    {
     "name": "stdout",
     "output_type": "stream",
     "text": [
      "\n",
      "Test set: Average loss: 0.0193, Accuracy: 9941/10000 (99%)\n",
      "\n"
     ]
    },
    {
     "name": "stderr",
     "output_type": "stream",
     "text": [
      "loss=0.007568212691694498 batch_id=468: 100%|██████████| 469/469 [00:14<00:00, 32.83it/s] \n"
     ]
    },
    {
     "name": "stdout",
     "output_type": "stream",
     "text": [
      "\n",
      "Test set: Average loss: 0.0197, Accuracy: 9938/10000 (99%)\n",
      "\n"
     ]
    },
    {
     "name": "stderr",
     "output_type": "stream",
     "text": [
      "loss=0.11501464247703552 batch_id=468: 100%|██████████| 469/469 [00:12<00:00, 37.93it/s]  \n"
     ]
    },
    {
     "name": "stdout",
     "output_type": "stream",
     "text": [
      "\n",
      "Test set: Average loss: 0.0181, Accuracy: 9937/10000 (99%)\n",
      "\n"
     ]
    },
    {
     "name": "stderr",
     "output_type": "stream",
     "text": [
      "loss=0.004924934823065996 batch_id=468: 100%|██████████| 469/469 [00:13<00:00, 35.60it/s] \n"
     ]
    },
    {
     "name": "stdout",
     "output_type": "stream",
     "text": [
      "\n",
      "Test set: Average loss: 0.0194, Accuracy: 9945/10000 (99%)\n",
      "\n"
     ]
    }
   ],
   "source": [
    "\n",
    "model = Net().to(device)\n",
    "optimizer = optim.SGD(model.parameters(), lr=0.01, momentum=0.9)\n",
    "\n",
    "for epoch in range(1, 19):\n",
    "    train(model, device, train_loader, optimizer, epoch)\n",
    "    test(model, device, test_loader)"
   ]
  }
 ],
 "metadata": {
  "kernelspec": {
   "display_name": "ml",
   "language": "python",
   "name": "python3"
  },
  "language_info": {
   "codemirror_mode": {
    "name": "ipython",
    "version": 3
   },
   "file_extension": ".py",
   "mimetype": "text/x-python",
   "name": "python",
   "nbconvert_exporter": "python",
   "pygments_lexer": "ipython3",
   "version": "3.11.7"
  }
 },
 "nbformat": 4,
 "nbformat_minor": 2
}
