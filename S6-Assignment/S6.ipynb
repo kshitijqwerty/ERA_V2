{
 "cells": [
  {
   "cell_type": "code",
   "execution_count": 13,
   "metadata": {},
   "outputs": [],
   "source": [
    "from __future__ import print_function\n",
    "import torch\n",
    "import torch.nn as nn\n",
    "import torch.nn.functional as F\n",
    "import torch.optim as optim\n",
    "from torchvision import datasets, transforms"
   ]
  },
  {
   "cell_type": "code",
   "execution_count": 16,
   "metadata": {},
   "outputs": [],
   "source": [
    "# My custom Model\n",
    "class Net(nn.Module):\n",
    "    def __init__(self):\n",
    "        super(Net, self).__init__()\n",
    "        \n",
    "        self.conv1 = nn.Conv2d(1, 16, 3) #26x26\n",
    "        self.batNorm1 = nn.BatchNorm2d(16)\n",
    "        self.conv2 = nn.Conv2d(16, 16, 3) #24x24\n",
    "        self.batNorm2 = nn.BatchNorm2d(16)\n",
    "        self.pool1 = nn.MaxPool2d(2, 2) # 12x12x16\n",
    "        \n",
    "        self.conv3 = nn.Conv2d(16, 32, 3) #10x10\n",
    "        self.batNorm3 = nn.BatchNorm2d(32)\n",
    "        self.conv4 = nn.Conv2d(32, 32, 3, padding=1, stride=2) #5x5\n",
    "        self.batNorm4 = nn.BatchNorm2d(32)\n",
    "        self.drop2 = nn.Dropout(0.15)\n",
    "        \n",
    "        self.conv5 = nn.Conv2d(32, 32, 3,stride=2) #3x3\n",
    "        self.batNorm5 = nn.BatchNorm2d(32)\n",
    "        self.conv6 = nn.Conv2d(32, 16, 1)\n",
    "        self.batNorm6 = nn.BatchNorm2d(16)\n",
    "        # self.pool2 = nn.MaxPool2d(2, 2) #7x7x32\n",
    "        self.drop3 = nn.Dropout(0.15)\n",
    "        \n",
    "        # self.conv5 = nn.Conv2d(32, 32, 3) # 5x5\n",
    "        # self.batNorm5 = nn.BatchNorm2d(32)\n",
    "        # self.conv6 = nn.Conv2d(32, 32, 3) #3x3\n",
    "        # self.batNorm6 = nn.BatchNorm2d(32)\n",
    "        # self.conv7 = nn.Conv2d(32, 32, 3) #1x1x32\n",
    "        # self.batNorm7 = nn.BatchNorm2d(32)\n",
    "        # self.drop3 = nn.Dropout(0.25)\n",
    "        self.fc1 = nn.Linear(256,10)\n",
    "\n",
    "    def forward(self, x):\n",
    "        x = F.relu(self.conv1(x))\n",
    "        x = self.batNorm1(x)\n",
    "        x = F.relu(self.conv2(x))\n",
    "        x = self.batNorm2(x)\n",
    "        x = self.pool1(x)\n",
    "        \n",
    "        x = F.relu(self.conv3(x))\n",
    "        x = self.batNorm3(x)\n",
    "        # x = F.relu(self.conv4(x))\n",
    "        # x = self.batNorm4(x)\n",
    "        x = self.drop2(x)\n",
    "        \n",
    "        x = F.relu(self.conv5(x))\n",
    "        x = self.batNorm5(x)\n",
    "        x = F.relu(self.conv6(x))\n",
    "        x = self.batNorm6(x)\n",
    "        \n",
    "        x = self.drop3(x)\n",
    "        \n",
    "        \n",
    "        # x = F.relu(self.conv6(x))\n",
    "        # x = self.batNorm6(x)\n",
    "        # x = F.relu(self.conv7(x))\n",
    "        # x = self.batNorm7(x)\n",
    "        x = x.view(x.size(0), -1)\n",
    "        x = self.fc1(x)\n",
    "        # x = self.conv2(x)\n",
    "        # x = self.pool1(F.relu(self.conv2(F.relu())))\n",
    "        # x = self.pool2(F.relu(self.conv4(F.relu(self.conv3(x)))))\n",
    "        # x = F.relu(self.conv6(F.relu(self.conv5(x))))\n",
    "        # x = F.relu(self.conv7(x))\n",
    "        \n",
    "        \n",
    "        return F.log_softmax(x)"
   ]
  },
  {
   "cell_type": "code",
   "execution_count": 17,
   "metadata": {},
   "outputs": [
    {
     "name": "stdout",
     "output_type": "stream",
     "text": [
      "Requirement already satisfied: torchsummary in /Users/horz/miniconda3/envs/ml/lib/python3.11/site-packages (1.5.1)\n",
      "----------------------------------------------------------------\n",
      "        Layer (type)               Output Shape         Param #\n",
      "================================================================\n",
      "            Conv2d-1           [-1, 16, 26, 26]             160\n",
      "       BatchNorm2d-2           [-1, 16, 26, 26]              32\n",
      "            Conv2d-3           [-1, 16, 24, 24]           2,320\n",
      "       BatchNorm2d-4           [-1, 16, 24, 24]              32\n",
      "         MaxPool2d-5           [-1, 16, 12, 12]               0\n",
      "            Conv2d-6           [-1, 32, 10, 10]           4,640\n",
      "       BatchNorm2d-7           [-1, 32, 10, 10]              64\n",
      "           Dropout-8           [-1, 32, 10, 10]               0\n",
      "            Conv2d-9             [-1, 32, 4, 4]           9,248\n",
      "      BatchNorm2d-10             [-1, 32, 4, 4]              64\n",
      "           Conv2d-11             [-1, 16, 4, 4]             528\n",
      "      BatchNorm2d-12             [-1, 16, 4, 4]              32\n",
      "          Dropout-13             [-1, 16, 4, 4]               0\n",
      "           Linear-14                   [-1, 10]           2,570\n",
      "================================================================\n",
      "Total params: 19,690\n",
      "Trainable params: 19,690\n",
      "Non-trainable params: 0\n",
      "----------------------------------------------------------------\n",
      "Input size (MB): 0.00\n",
      "Forward/backward pass size (MB): 0.41\n",
      "Params size (MB): 0.08\n",
      "Estimated Total Size (MB): 0.49\n",
      "----------------------------------------------------------------\n",
      "Running models on:  mps\n"
     ]
    },
    {
     "name": "stderr",
     "output_type": "stream",
     "text": [
      "/var/folders/6x/skj50cf15297r_q8sp6r6rwr0000gn/T/ipykernel_63965/1895879961.py:68: UserWarning: Implicit dimension choice for log_softmax has been deprecated. Change the call to include dim=X as an argument.\n",
      "  return F.log_softmax(x)\n"
     ]
    }
   ],
   "source": [
    "!pip install torchsummary\n",
    "from torchsummary import summary\n",
    "\n",
    "# run summary on cpu first then shift to device\n",
    "model = Net().to(\"cpu\")\n",
    "summary(model, input_size=(1, 28, 28))\n",
    "\n",
    "if torch.backends.mps.is_available():\n",
    "    # Apple Silicon GPU\n",
    "    device = \"mps\"\n",
    "    use_cuda = True\n",
    "elif torch.cuda.is_available():\n",
    "    # nVidia GPU\n",
    "    device = \"cuda\"\n",
    "    use_cuda = True\n",
    "else:\n",
    "    # CPU\n",
    "    device = \"cpu\"\n",
    "print(\"Running models on: \", device)\n"
   ]
  },
  {
   "cell_type": "code",
   "execution_count": 18,
   "metadata": {},
   "outputs": [],
   "source": [
    "\n",
    "\n",
    "torch.manual_seed(1)\n",
    "batch_size = 200\n",
    "\n",
    "kwargs = {'num_workers': 1, 'pin_memory': True} if use_cuda else {}\n",
    "train_loader = torch.utils.data.DataLoader(\n",
    "    datasets.MNIST('../data', train=True, download=True,\n",
    "                    transform=transforms.Compose([\n",
    "                        transforms.ToTensor(),\n",
    "                        transforms.Normalize((0.1307,), (0.3081,))\n",
    "                    ])),\n",
    "    batch_size=batch_size, shuffle=True, **kwargs)\n",
    "test_loader = torch.utils.data.DataLoader(\n",
    "    datasets.MNIST('../data', train=False, transform=transforms.Compose([\n",
    "                        transforms.ToTensor(),\n",
    "                        transforms.Normalize((0.1307,), (0.3081,))\n",
    "                    ])),\n",
    "    batch_size=batch_size, shuffle=True, **kwargs)\n"
   ]
  },
  {
   "cell_type": "code",
   "execution_count": 19,
   "metadata": {},
   "outputs": [],
   "source": [
    "from tqdm import tqdm\n",
    "def train(model, device, train_loader, optimizer, epoch):\n",
    "    model.train()\n",
    "    pbar = tqdm(train_loader)\n",
    "    for batch_idx, (data, target) in enumerate(pbar):\n",
    "        data, target = data.to(device), target.to(device)\n",
    "        optimizer.zero_grad()\n",
    "        output = model(data)\n",
    "        loss = F.nll_loss(output, target)\n",
    "        loss.backward()\n",
    "        optimizer.step()\n",
    "        pbar.set_description(desc= f'loss={loss.item()} batch_id={batch_idx}')\n",
    "\n",
    "\n",
    "def test(model, device, test_loader):\n",
    "    model.eval()\n",
    "    test_loss = 0\n",
    "    correct = 0\n",
    "    with torch.no_grad():\n",
    "        for data, target in test_loader:\n",
    "            data, target = data.to(device), target.to(device)\n",
    "            output = model(data)\n",
    "            test_loss += F.nll_loss(output, target, reduction='sum').item()  # sum up batch loss\n",
    "            pred = output.argmax(dim=1, keepdim=True)  # get the index of the max log-probability\n",
    "            correct += pred.eq(target.view_as(pred)).sum().item()\n",
    "\n",
    "    test_loss /= len(test_loader.dataset)\n",
    "\n",
    "    print('\\nTest set: Average loss: {:.4f}, Accuracy: {}/{} ({:.0f}%)\\n'.format(\n",
    "        test_loss, correct, len(test_loader.dataset),\n",
    "        100. * correct / len(test_loader.dataset)))"
   ]
  },
  {
   "cell_type": "code",
   "execution_count": 20,
   "metadata": {},
   "outputs": [
    {
     "name": "stderr",
     "output_type": "stream",
     "text": [
      "  0%|          | 0/300 [00:00<?, ?it/s]"
     ]
    },
    {
     "name": "stderr",
     "output_type": "stream",
     "text": [
      "/var/folders/6x/skj50cf15297r_q8sp6r6rwr0000gn/T/ipykernel_63965/1895879961.py:68: UserWarning: Implicit dimension choice for log_softmax has been deprecated. Change the call to include dim=X as an argument.\n",
      "  return F.log_softmax(x)\n",
      "loss=0.11418912559747696 batch_id=299: 100%|██████████| 300/300 [00:10<00:00, 29.42it/s] \n"
     ]
    },
    {
     "name": "stdout",
     "output_type": "stream",
     "text": [
      "\n",
      "Test set: Average loss: 0.0584, Accuracy: 9830/10000 (98%)\n",
      "\n"
     ]
    },
    {
     "name": "stderr",
     "output_type": "stream",
     "text": [
      "loss=0.03215485066175461 batch_id=299: 100%|██████████| 300/300 [00:06<00:00, 49.61it/s] \n"
     ]
    },
    {
     "name": "stdout",
     "output_type": "stream",
     "text": [
      "\n",
      "Test set: Average loss: 0.0420, Accuracy: 9879/10000 (99%)\n",
      "\n"
     ]
    },
    {
     "name": "stderr",
     "output_type": "stream",
     "text": [
      "loss=0.06576179713010788 batch_id=299: 100%|██████████| 300/300 [00:05<00:00, 50.30it/s] \n"
     ]
    },
    {
     "name": "stdout",
     "output_type": "stream",
     "text": [
      "\n",
      "Test set: Average loss: 0.0338, Accuracy: 9900/10000 (99%)\n",
      "\n"
     ]
    },
    {
     "name": "stderr",
     "output_type": "stream",
     "text": [
      "loss=0.038902804255485535 batch_id=299: 100%|██████████| 300/300 [00:05<00:00, 50.61it/s]\n"
     ]
    },
    {
     "name": "stdout",
     "output_type": "stream",
     "text": [
      "\n",
      "Test set: Average loss: 0.0346, Accuracy: 9887/10000 (99%)\n",
      "\n"
     ]
    },
    {
     "name": "stderr",
     "output_type": "stream",
     "text": [
      "loss=0.0111694959923625 batch_id=299: 100%|██████████| 300/300 [00:05<00:00, 50.08it/s]   \n"
     ]
    },
    {
     "name": "stdout",
     "output_type": "stream",
     "text": [
      "\n",
      "Test set: Average loss: 0.0294, Accuracy: 9904/10000 (99%)\n",
      "\n"
     ]
    },
    {
     "name": "stderr",
     "output_type": "stream",
     "text": [
      "loss=0.022532498463988304 batch_id=299: 100%|██████████| 300/300 [00:06<00:00, 49.03it/s]\n"
     ]
    },
    {
     "name": "stdout",
     "output_type": "stream",
     "text": [
      "\n",
      "Test set: Average loss: 0.0273, Accuracy: 9912/10000 (99%)\n",
      "\n"
     ]
    },
    {
     "name": "stderr",
     "output_type": "stream",
     "text": [
      "loss=0.03419967740774155 batch_id=299: 100%|██████████| 300/300 [00:06<00:00, 48.87it/s] \n"
     ]
    },
    {
     "name": "stdout",
     "output_type": "stream",
     "text": [
      "\n",
      "Test set: Average loss: 0.0258, Accuracy: 9912/10000 (99%)\n",
      "\n"
     ]
    },
    {
     "name": "stderr",
     "output_type": "stream",
     "text": [
      "loss=0.02224758081138134 batch_id=299: 100%|██████████| 300/300 [00:06<00:00, 46.74it/s]  \n"
     ]
    },
    {
     "name": "stdout",
     "output_type": "stream",
     "text": [
      "\n",
      "Test set: Average loss: 0.0266, Accuracy: 9904/10000 (99%)\n",
      "\n"
     ]
    },
    {
     "name": "stderr",
     "output_type": "stream",
     "text": [
      "loss=0.04693959280848503 batch_id=299: 100%|██████████| 300/300 [00:06<00:00, 48.01it/s]  \n"
     ]
    },
    {
     "name": "stdout",
     "output_type": "stream",
     "text": [
      "\n",
      "Test set: Average loss: 0.0270, Accuracy: 9914/10000 (99%)\n",
      "\n"
     ]
    },
    {
     "name": "stderr",
     "output_type": "stream",
     "text": [
      "loss=0.013289671391248703 batch_id=299: 100%|██████████| 300/300 [00:06<00:00, 45.74it/s] \n"
     ]
    },
    {
     "name": "stdout",
     "output_type": "stream",
     "text": [
      "\n",
      "Test set: Average loss: 0.0242, Accuracy: 9922/10000 (99%)\n",
      "\n"
     ]
    },
    {
     "name": "stderr",
     "output_type": "stream",
     "text": [
      "loss=0.0303285401314497 batch_id=299: 100%|██████████| 300/300 [00:06<00:00, 48.70it/s]   \n"
     ]
    },
    {
     "name": "stdout",
     "output_type": "stream",
     "text": [
      "\n",
      "Test set: Average loss: 0.0221, Accuracy: 9926/10000 (99%)\n",
      "\n"
     ]
    },
    {
     "name": "stderr",
     "output_type": "stream",
     "text": [
      "loss=0.004777410998940468 batch_id=299: 100%|██████████| 300/300 [00:05<00:00, 52.73it/s] \n"
     ]
    },
    {
     "name": "stdout",
     "output_type": "stream",
     "text": [
      "\n",
      "Test set: Average loss: 0.0244, Accuracy: 9919/10000 (99%)\n",
      "\n"
     ]
    },
    {
     "name": "stderr",
     "output_type": "stream",
     "text": [
      "loss=0.003962470684200525 batch_id=299: 100%|██████████| 300/300 [00:05<00:00, 52.19it/s] \n"
     ]
    },
    {
     "name": "stdout",
     "output_type": "stream",
     "text": [
      "\n",
      "Test set: Average loss: 0.0219, Accuracy: 9927/10000 (99%)\n",
      "\n"
     ]
    },
    {
     "name": "stderr",
     "output_type": "stream",
     "text": [
      "loss=0.016170227900147438 batch_id=299: 100%|██████████| 300/300 [00:06<00:00, 47.99it/s] \n"
     ]
    },
    {
     "name": "stdout",
     "output_type": "stream",
     "text": [
      "\n",
      "Test set: Average loss: 0.0203, Accuracy: 9934/10000 (99%)\n",
      "\n"
     ]
    },
    {
     "name": "stderr",
     "output_type": "stream",
     "text": [
      "loss=0.02298702299594879 batch_id=299: 100%|██████████| 300/300 [00:06<00:00, 50.00it/s]  \n"
     ]
    },
    {
     "name": "stdout",
     "output_type": "stream",
     "text": [
      "\n",
      "Test set: Average loss: 0.0226, Accuracy: 9935/10000 (99%)\n",
      "\n"
     ]
    },
    {
     "name": "stderr",
     "output_type": "stream",
     "text": [
      "loss=0.0037373476661741734 batch_id=299: 100%|██████████| 300/300 [00:05<00:00, 51.81it/s]\n"
     ]
    },
    {
     "name": "stdout",
     "output_type": "stream",
     "text": [
      "\n",
      "Test set: Average loss: 0.0222, Accuracy: 9925/10000 (99%)\n",
      "\n"
     ]
    },
    {
     "name": "stderr",
     "output_type": "stream",
     "text": [
      "loss=0.01799648068845272 batch_id=299: 100%|██████████| 300/300 [00:05<00:00, 51.56it/s]  \n"
     ]
    },
    {
     "name": "stdout",
     "output_type": "stream",
     "text": [
      "\n",
      "Test set: Average loss: 0.0213, Accuracy: 9934/10000 (99%)\n",
      "\n"
     ]
    },
    {
     "name": "stderr",
     "output_type": "stream",
     "text": [
      "loss=0.016354501247406006 batch_id=299: 100%|██████████| 300/300 [00:05<00:00, 52.49it/s] \n"
     ]
    },
    {
     "name": "stdout",
     "output_type": "stream",
     "text": [
      "\n",
      "Test set: Average loss: 0.0221, Accuracy: 9927/10000 (99%)\n",
      "\n"
     ]
    }
   ],
   "source": [
    "\n",
    "model = Net().to(device)\n",
    "optimizer = optim.SGD(model.parameters(), lr=0.01, momentum=0.9)\n",
    "\n",
    "for epoch in range(1, 19):\n",
    "    train(model, device, train_loader, optimizer, epoch)\n",
    "    test(model, device, test_loader)"
   ]
  },
  {
   "cell_type": "code",
   "execution_count": null,
   "metadata": {},
   "outputs": [],
   "source": []
  }
 ],
 "metadata": {
  "kernelspec": {
   "display_name": "ml",
   "language": "python",
   "name": "python3"
  },
  "language_info": {
   "codemirror_mode": {
    "name": "ipython",
    "version": 3
   },
   "file_extension": ".py",
   "mimetype": "text/x-python",
   "name": "python",
   "nbconvert_exporter": "python",
   "pygments_lexer": "ipython3",
   "version": "3.11.7"
  }
 },
 "nbformat": 4,
 "nbformat_minor": 2
}
